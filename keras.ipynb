{
 "cells": [
  {
   "cell_type": "code",
   "execution_count": 4,
   "metadata": {},
   "outputs": [],
   "source": [
    "from tensorflow import keras\n",
    "import numpy as np\n",
    "from pathlib import Path"
   ]
  },
  {
   "cell_type": "code",
   "execution_count": 6,
   "metadata": {},
   "outputs": [],
   "source": [
    "celebs_path = Path(\"celeb_transformed\")"
   ]
  },
  {
   "cell_type": "code",
   "execution_count": 7,
   "metadata": {},
   "outputs": [
    {
     "name": "stdout",
     "output_type": "stream",
     "text": [
      "celeb_transformed/Denzel Washington\n",
      "celeb_transformed/Megan Fox\n",
      "celeb_transformed/Sandra Bullock\n",
      "celeb_transformed/Tom Hanks\n",
      "celeb_transformed/Nicole Kidman\n",
      "celeb_transformed/Kate Winslet\n",
      "celeb_transformed/Robert Downey Jr\n",
      "celeb_transformed/Brad Pitt\n",
      "celeb_transformed/Jennifer Lawrence\n",
      "celeb_transformed/Natalie Portman\n",
      "celeb_transformed/Angelina Jolie\n",
      "celeb_transformed/Scarlett Johansson\n",
      "celeb_transformed/Johnny Depp\n",
      "celeb_transformed/Hugh Jackman\n",
      "celeb_transformed/Leonardo DiCaprio\n",
      "celeb_transformed/Tom Cruise\n",
      "celeb_transformed/Will Smith\n"
     ]
    }
   ],
   "source": [
    "for celeb in celebs_path.iterdir():\n",
    "    "
   ]
  },
  {
   "cell_type": "code",
   "execution_count": null,
   "metadata": {},
   "outputs": [],
   "source": []
  }
 ],
 "metadata": {
  "kernelspec": {
   "display_name": "Python 3.10.8 ('eitp40')",
   "language": "python",
   "name": "python3"
  },
  "language_info": {
   "codemirror_mode": {
    "name": "ipython",
    "version": 3
   },
   "file_extension": ".py",
   "mimetype": "text/x-python",
   "name": "python",
   "nbconvert_exporter": "python",
   "pygments_lexer": "ipython3",
   "version": "3.10.8"
  },
  "orig_nbformat": 4,
  "vscode": {
   "interpreter": {
    "hash": "89b0492c8c529a560f44bf80b429ff63a7999ee4291593c154ca21efbc4f5a56"
   }
  }
 },
 "nbformat": 4,
 "nbformat_minor": 2
}
