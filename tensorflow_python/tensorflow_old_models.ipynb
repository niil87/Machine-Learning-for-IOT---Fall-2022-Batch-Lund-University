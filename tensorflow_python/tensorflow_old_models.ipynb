{
 "cells": [
  {
   "cell_type": "code",
   "execution_count": 1,
   "metadata": {},
   "outputs": [
    {
     "name": "stderr",
     "output_type": "stream",
     "text": [
      "2022-12-06 18:16:38.351820: W tensorflow/stream_executor/platform/default/dso_loader.cc:64] Could not load dynamic library 'libcudart.so.11.0'; dlerror: libcudart.so.11.0: cannot open shared object file: No such file or directory\n",
      "2022-12-06 18:16:38.351840: I tensorflow/stream_executor/cuda/cudart_stub.cc:29] Ignore above cudart dlerror if you do not have a GPU set up on your machine.\n"
     ]
    }
   ],
   "source": [
    "from tensorflow import keras\n",
    "import tensorflow as tf\n",
    "import numpy as np\n",
    "from pathlib import Path\n",
    "from matplotlib import pyplot as plt\n",
    "from sklearn.preprocessing import LabelEncoder\n",
    "from sklearn import model_selection"
   ]
  },
  {
   "cell_type": "code",
   "execution_count": 2,
   "metadata": {},
   "outputs": [],
   "source": [
    "path = Path(\"../datasets/Images_Transformed_565_160_120\")\n",
    "with open(path/'data.npy', 'rb') as d, open(path/\"labels.npy\", \"rb\") as l, open(path/\"classes.npy\", \"rb\") as c:\n",
    "    data = np.load(d)\n",
    "    labels = np.load(l)\n",
    "    classes = np.load(c)\n",
    "le = LabelEncoder()\n",
    "le.classes_ = classes"
   ]
  },
  {
   "cell_type": "code",
   "execution_count": 3,
   "metadata": {},
   "outputs": [
    {
     "name": "stdout",
     "output_type": "stream",
     "text": [
      "(105,)\n",
      "(105, 120, 160, 3)\n",
      "['Maria' 'Nikhil' 'Simon']\n"
     ]
    }
   ],
   "source": [
    "print(labels.shape)\n",
    "print(data.shape)\n",
    "print(classes)"
   ]
  },
  {
   "cell_type": "code",
   "execution_count": 4,
   "metadata": {},
   "outputs": [
    {
     "name": "stdout",
     "output_type": "stream",
     "text": [
      "Counter({2: 49, 0: 45, 1: 11})\n"
     ]
    }
   ],
   "source": [
    "from collections import Counter\n",
    "print(Counter(labels))"
   ]
  },
  {
   "cell_type": "code",
   "execution_count": 5,
   "metadata": {},
   "outputs": [],
   "source": [
    "# Helper functions\n",
    "def _565_channels_normalize(data: np.ndarray) -> np.ndarray:\n",
    "    width, height, chan = data.shape\n",
    "    channels = np.zeros(shape=(width, height, chan), dtype=np.float16)\n",
    "\n",
    "    for x in range(width):\n",
    "        for y in range(height):\n",
    "            channels[x, y, 0] = data[x, y, 0] / 32\n",
    "            channels[x, y, 1] = data[x, y, 1] / 64\n",
    "            channels[x, y, 2] = data[x, y, 2] / 32\n",
    "\n",
    "    return channels\n",
    "\n",
    "# If we want to reverse the normalization -> 888\n",
    "def normalized_to_888(data: np.ndarray) -> np.ndarray:\n",
    "    width, height, chan = data.shape\n",
    "    channels = np.zeros(shape=(width, height, chan), dtype=np.uint16)\n",
    "\n",
    "    for x in range(width):\n",
    "        for y in range(height):\n",
    "            channels[x, y, 0] = data[x, y, 0] * 255\n",
    "            channels[x, y, 1] = data[x, y, 1] * 255\n",
    "            channels[x, y, 2] = data[x, y, 2] * 255\n",
    "\n",
    "    return channels"
   ]
  },
  {
   "cell_type": "code",
   "execution_count": 6,
   "metadata": {},
   "outputs": [],
   "source": [
    "# Normalize 565 channels\n",
    "unscaled_data = data\n",
    "\n",
    "data = []\n",
    "for img in unscaled_data:\n",
    "    data.append(_565_channels_normalize(img))\n",
    "data = np.array(data)\n"
   ]
  },
  {
   "cell_type": "code",
   "execution_count": 7,
   "metadata": {},
   "outputs": [
    {
     "name": "stdout",
     "output_type": "stream",
     "text": [
      "train data shape: (73, 120, 160, 3)\n",
      "validation data shape: (22, 120, 160, 3)\n",
      "train labels shape: (73,)\n",
      "validation labels shape: (22,)\n",
      "test labels shape: (10, 120, 160, 3)\n",
      "test labels shape: (10,)\n"
     ]
    }
   ],
   "source": [
    "train_data, validation_data, train_labels, validation_labels = model_selection.train_test_split(data,labels, random_state=50,test_size=0.3)\n",
    "validation_data, test_data, validation_labels, test_labels = model_selection.train_test_split(validation_data,validation_labels, random_state=50,test_size=0.3)\n",
    "\n",
    "print('train data shape:',np.shape(train_data))\n",
    "print('validation data shape:',np.shape(validation_data))\n",
    "print('train labels shape:',np.shape(train_labels))\n",
    "print('validation labels shape:',np.shape(validation_labels))\n",
    "print('test labels shape:',np.shape(test_data))\n",
    "print('test labels shape:',np.shape(test_labels))"
   ]
  },
  {
   "cell_type": "code",
   "execution_count": 8,
   "metadata": {},
   "outputs": [
    {
     "name": "stdout",
     "output_type": "stream",
     "text": [
      "[[[[0.9375 0.9375 0.9375]\n",
      "   [0.9375 0.9375 0.9375]\n",
      "   [0.875  0.8906 0.9062]\n",
      "   ...\n",
      "   [0.5625 0.4375 0.375 ]\n",
      "   [0.5312 0.4375 0.375 ]\n",
      "   [0.5625 0.4844 0.3438]]\n",
      "\n",
      "  [[0.9375 0.9375 0.9375]\n",
      "   [0.9375 0.9375 0.9375]\n",
      "   [0.875  0.875  0.9062]\n",
      "   ...\n",
      "   [0.5625 0.4219 0.2812]\n",
      "   [0.5312 0.4219 0.3125]\n",
      "   [0.5625 0.4688 0.3125]]\n",
      "\n",
      "  [[0.9375 0.9375 0.9375]\n",
      "   [0.9375 0.9375 0.9375]\n",
      "   [0.875  0.8906 0.9062]\n",
      "   ...\n",
      "   [0.5625 0.4531 0.3438]\n",
      "   [0.5312 0.4219 0.3125]\n",
      "   [0.5625 0.4844 0.3125]]\n",
      "\n",
      "  ...\n",
      "\n",
      "  [[0.5625 0.9375 0.9375]\n",
      "   [0.5625 0.9375 0.9375]\n",
      "   [0.5312 0.922  0.9375]\n",
      "   ...\n",
      "   [0.5312 0.4375 0.2812]\n",
      "   [0.7188 0.6562 0.5   ]\n",
      "   [0.7812 0.703  0.5312]]\n",
      "\n",
      "  [[0.5625 0.9375 0.9375]\n",
      "   [0.5625 0.9375 0.9375]\n",
      "   [0.5312 0.922  0.9375]\n",
      "   ...\n",
      "   [0.5312 0.4375 0.2812]\n",
      "   [0.7188 0.6406 0.5   ]\n",
      "   [0.7812 0.7188 0.5312]]\n",
      "\n",
      "  [[0.5625 0.9375 0.9375]\n",
      "   [0.5625 0.9375 0.9375]\n",
      "   [0.5312 0.922  0.9375]\n",
      "   ...\n",
      "   [0.5    0.4375 0.2812]\n",
      "   [0.7188 0.6562 0.5   ]\n",
      "   [0.8125 0.703  0.5312]]]\n",
      "\n",
      "\n",
      " [[[0.4688 0.5    0.5625]\n",
      "   [0.4688 0.5    0.5312]\n",
      "   [0.5625 0.578  0.5625]\n",
      "   ...\n",
      "   [0.4688 0.4062 0.375 ]\n",
      "   [0.4375 0.375  0.375 ]\n",
      "   [0.4688 0.4375 0.3438]]\n",
      "\n",
      "  [[0.4688 0.5    0.4688]\n",
      "   [0.4375 0.4688 0.4688]\n",
      "   [0.5625 0.578  0.5   ]\n",
      "   ...\n",
      "   [0.4375 0.3906 0.2812]\n",
      "   [0.4062 0.3438 0.2812]\n",
      "   [0.4688 0.4062 0.2812]]\n",
      "\n",
      "  [[0.4688 0.5156 0.5   ]\n",
      "   [0.4688 0.4844 0.5   ]\n",
      "   [0.5625 0.5938 0.5   ]\n",
      "   ...\n",
      "   [0.4375 0.4062 0.2812]\n",
      "   [0.4062 0.3906 0.2812]\n",
      "   [0.4688 0.4219 0.2812]]\n",
      "\n",
      "  ...\n",
      "\n",
      "  [[0.9375 0.9375 0.8438]\n",
      "   [0.9375 0.9375 0.8438]\n",
      "   [0.9375 0.9375 0.875 ]\n",
      "   ...\n",
      "   [0.2812 0.2344 0.1875]\n",
      "   [0.25   0.2344 0.1562]\n",
      "   [0.2812 0.25   0.1562]]\n",
      "\n",
      "  [[0.9375 0.9375 0.8438]\n",
      "   [0.9375 0.9375 0.8438]\n",
      "   [0.9375 0.9375 0.875 ]\n",
      "   ...\n",
      "   [0.3125 0.25   0.2188]\n",
      "   [0.2812 0.2344 0.1875]\n",
      "   [0.3125 0.2812 0.1562]]\n",
      "\n",
      "  [[0.9375 0.922  0.8125]\n",
      "   [0.9375 0.9375 0.8438]\n",
      "   [0.9375 0.9375 0.875 ]\n",
      "   ...\n",
      "   [0.2812 0.2344 0.1875]\n",
      "   [0.2812 0.2344 0.1875]\n",
      "   [0.3125 0.2656 0.1562]]]\n",
      "\n",
      "\n",
      " [[[0.7188 0.7188 0.75  ]\n",
      "   [0.7188 0.7188 0.7188]\n",
      "   [0.7188 0.703  0.7188]\n",
      "   ...\n",
      "   [0.5312 0.6094 0.5938]\n",
      "   [0.5312 0.5625 0.5625]\n",
      "   [0.375  0.375  0.8438]]\n",
      "\n",
      "  [[0.7188 0.7344 0.75  ]\n",
      "   [0.7188 0.7344 0.7188]\n",
      "   [0.7188 0.7344 0.7188]\n",
      "   ...\n",
      "   [0.5312 0.6094 0.5938]\n",
      "   [0.5312 0.578  0.5625]\n",
      "   [0.375  0.3906 0.875 ]]\n",
      "\n",
      "  [[0.7188 0.7344 0.7188]\n",
      "   [0.7188 0.7344 0.7188]\n",
      "   [0.7188 0.7344 0.7188]\n",
      "   ...\n",
      "   [0.5312 0.625  0.625 ]\n",
      "   [0.5312 0.5938 0.5938]\n",
      "   [0.375  0.4062 0.875 ]]\n",
      "\n",
      "  ...\n",
      "\n",
      "  [[0.8438 0.875  0.875 ]\n",
      "   [0.8125 0.8438 0.8438]\n",
      "   [0.8125 0.8438 0.8438]\n",
      "   ...\n",
      "   [0.5625 0.625  0.5938]\n",
      "   [0.5312 0.578  0.5312]\n",
      "   [0.375  0.3906 0.8438]]\n",
      "\n",
      "  [[0.8125 0.875  0.875 ]\n",
      "   [0.8125 0.8438 0.8438]\n",
      "   [0.8125 0.8438 0.8438]\n",
      "   ...\n",
      "   [0.5625 0.625  0.5938]\n",
      "   [0.5625 0.578  0.5625]\n",
      "   [0.375  0.3906 0.8438]]\n",
      "\n",
      "  [[0.8125 0.8906 0.8438]\n",
      "   [0.8125 0.8438 0.8438]\n",
      "   [0.8125 0.8438 0.8438]\n",
      "   ...\n",
      "   [0.5625 0.625  0.5938]\n",
      "   [0.5625 0.578  0.5625]\n",
      "   [0.375  0.3906 0.8438]]]\n",
      "\n",
      "\n",
      " ...\n",
      "\n",
      "\n",
      " [[[0.7188 0.7344 0.7188]\n",
      "   [0.7188 0.7344 0.7188]\n",
      "   [0.7188 0.7188 0.7188]\n",
      "   ...\n",
      "   [0.5312 0.625  0.625 ]\n",
      "   [0.5312 0.578  0.5625]\n",
      "   [0.375  0.3906 0.8438]]\n",
      "\n",
      "  [[0.7188 0.75   0.7188]\n",
      "   [0.7188 0.75   0.7188]\n",
      "   [0.7188 0.7344 0.7188]\n",
      "   ...\n",
      "   [0.5312 0.625  0.625 ]\n",
      "   [0.5312 0.578  0.5938]\n",
      "   [0.3438 0.3906 0.8438]]\n",
      "\n",
      "  [[0.7188 0.75   0.7188]\n",
      "   [0.7188 0.7344 0.7188]\n",
      "   [0.7188 0.7344 0.7188]\n",
      "   ...\n",
      "   [0.5312 0.625  0.625 ]\n",
      "   [0.5312 0.578  0.5938]\n",
      "   [0.3438 0.3906 0.8438]]\n",
      "\n",
      "  ...\n",
      "\n",
      "  [[0.8438 0.8594 0.875 ]\n",
      "   [0.8125 0.8438 0.8438]\n",
      "   [0.8125 0.8438 0.8438]\n",
      "   ...\n",
      "   [0.5938 0.6562 0.625 ]\n",
      "   [0.625  0.625  0.5625]\n",
      "   [0.4062 0.4219 0.875 ]]\n",
      "\n",
      "  [[0.8438 0.875  0.8438]\n",
      "   [0.8125 0.8438 0.8438]\n",
      "   [0.8438 0.8438 0.8438]\n",
      "   ...\n",
      "   [0.5938 0.6562 0.625 ]\n",
      "   [0.625  0.625  0.5625]\n",
      "   [0.4062 0.4219 0.875 ]]\n",
      "\n",
      "  [[0.8438 0.875  0.8438]\n",
      "   [0.8125 0.8438 0.8438]\n",
      "   [0.8125 0.8438 0.8438]\n",
      "   ...\n",
      "   [0.5938 0.672  0.625 ]\n",
      "   [0.625  0.625  0.5938]\n",
      "   [0.375  0.4219 0.875 ]]]\n",
      "\n",
      "\n",
      " [[[0.125  0.2031 0.25  ]\n",
      "   [0.1562 0.2031 0.25  ]\n",
      "   [0.1875 0.2031 0.2812]\n",
      "   ...\n",
      "   [0.6562 0.6562 0.5938]\n",
      "   [0.625  0.6406 0.5938]\n",
      "   [0.6562 0.6562 0.5938]]\n",
      "\n",
      "  [[0.125  0.1719 0.2188]\n",
      "   [0.1562 0.1875 0.2188]\n",
      "   [0.1562 0.2031 0.2188]\n",
      "   ...\n",
      "   [0.6562 0.625  0.5312]\n",
      "   [0.625  0.625  0.5312]\n",
      "   [0.6562 0.6406 0.5312]]\n",
      "\n",
      "  [[0.1562 0.1875 0.2188]\n",
      "   [0.1562 0.2031 0.2188]\n",
      "   [0.1562 0.2188 0.2188]\n",
      "   ...\n",
      "   [0.6562 0.6406 0.5312]\n",
      "   [0.6562 0.625  0.5312]\n",
      "   [0.6562 0.6406 0.5312]]\n",
      "\n",
      "  ...\n",
      "\n",
      "  [[0.2188 0.4062 0.4375]\n",
      "   [0.1875 0.3594 0.4375]\n",
      "   [0.1875 0.3594 0.4062]\n",
      "   ...\n",
      "   [0.7188 0.672  0.5938]\n",
      "   [0.6875 0.6562 0.5625]\n",
      "   [0.7188 0.6875 0.5625]]\n",
      "\n",
      "  [[0.2188 0.4062 0.4688]\n",
      "   [0.1875 0.3594 0.4375]\n",
      "   [0.1875 0.3438 0.4062]\n",
      "   ...\n",
      "   [0.7188 0.6875 0.5625]\n",
      "   [0.6875 0.672  0.5625]\n",
      "   [0.6875 0.6875 0.5625]]\n",
      "\n",
      "  [[0.2188 0.4062 0.4688]\n",
      "   [0.1875 0.375  0.4375]\n",
      "   [0.1875 0.3438 0.4062]\n",
      "   ...\n",
      "   [0.7188 0.703  0.5625]\n",
      "   [0.6875 0.672  0.5625]\n",
      "   [0.7188 0.703  0.5625]]]\n",
      "\n",
      "\n",
      " [[[0.8438 0.828  0.8125]\n",
      "   [0.875  0.8594 0.8125]\n",
      "   [0.875  0.8438 0.8125]\n",
      "   ...\n",
      "   [0.8125 0.7812 0.7188]\n",
      "   [0.7812 0.7656 0.7188]\n",
      "   [0.8125 0.797  0.7188]]\n",
      "\n",
      "  [[0.8125 0.8125 0.6875]\n",
      "   [0.8438 0.828  0.6875]\n",
      "   [0.875  0.8438 0.6875]\n",
      "   ...\n",
      "   [0.7812 0.75   0.625 ]\n",
      "   [0.7812 0.75   0.625 ]\n",
      "   [0.7812 0.7656 0.625 ]]\n",
      "\n",
      "  [[0.8438 0.828  0.6875]\n",
      "   [0.8438 0.8438 0.6875]\n",
      "   [0.875  0.8438 0.7188]\n",
      "   ...\n",
      "   [0.7812 0.7656 0.6562]\n",
      "   [0.7812 0.7656 0.625 ]\n",
      "   [0.8125 0.797  0.625 ]]\n",
      "\n",
      "  ...\n",
      "\n",
      "  [[0.2188 0.2969 0.25  ]\n",
      "   [0.2188 0.3281 0.2812]\n",
      "   [0.25   0.3594 0.3125]\n",
      "   ...\n",
      "   [0.875  0.828  0.7188]\n",
      "   [0.8125 0.797  0.6562]\n",
      "   [0.8438 0.828  0.6562]]\n",
      "\n",
      "  [[0.2188 0.2969 0.2812]\n",
      "   [0.2188 0.3125 0.3125]\n",
      "   [0.25   0.3438 0.3125]\n",
      "   ...\n",
      "   [0.8438 0.828  0.6875]\n",
      "   [0.8125 0.797  0.6562]\n",
      "   [0.8438 0.828  0.6562]]\n",
      "\n",
      "  [[0.2188 0.2969 0.2812]\n",
      "   [0.2188 0.3125 0.3125]\n",
      "   [0.25   0.3438 0.3125]\n",
      "   ...\n",
      "   [0.8438 0.8438 0.6875]\n",
      "   [0.8125 0.797  0.6562]\n",
      "   [0.875  0.828  0.6562]]]]\n"
     ]
    }
   ],
   "source": [
    "mean = np.mean(train_data, axis = 0)\n",
    "std = np.std(train_data, axis = 0)\n",
    "\n",
    "#train_data = (train_data-mean) / std\n",
    "#validation_data = (validation_data-mean) / std\n",
    "\n",
    "print(train_data)"
   ]
  },
  {
   "cell_type": "code",
   "execution_count": 9,
   "metadata": {},
   "outputs": [
    {
     "data": {
      "image/png": "[encoded data removed]",
      "text/plain": [
       "<PIL.Image.Image image mode=RGB size=160x120 at 0x7FC73C67FF40>"
      ]
     },
     "execution_count": 9,
     "metadata": {},
     "output_type": "execute_result"
    }
   ],
   "source": [
    "keras.utils.array_to_img(train_data[0])"
   ]
  },
  {
   "cell_type": "code",
   "execution_count": 10,
   "metadata": {},
   "outputs": [
    {
     "data": {
      "text/plain": [
       "3"
      ]
     },
     "execution_count": 10,
     "metadata": {},
     "output_type": "execute_result"
    }
   ],
   "source": [
    "classes_txt = classes\n",
    "classes = len(le.classes_)\n",
    "classes"
   ]
  },
  {
   "cell_type": "code",
   "execution_count": 11,
   "metadata": {},
   "outputs": [
    {
     "data": {
      "text/plain": [
       "32"
      ]
     },
     "execution_count": 11,
     "metadata": {},
     "output_type": "execute_result"
    }
   ],
   "source": [
    "import gc\n",
    "gc.collect() # used to clear gpu memory (in theory lol)"
   ]
  },
  {
   "cell_type": "code",
   "execution_count": 12,
   "metadata": {},
   "outputs": [
    {
     "name": "stderr",
     "output_type": "stream",
     "text": [
      "2022-12-06 18:16:51.591560: W tensorflow/stream_executor/platform/default/dso_loader.cc:64] Could not load dynamic library 'libcuda.so.1'; dlerror: libcuda.so.1: cannot open shared object file: No such file or directory\n",
      "2022-12-06 18:16:51.591587: W tensorflow/stream_executor/cuda/cuda_driver.cc:269] failed call to cuInit: UNKNOWN ERROR (303)\n",
      "2022-12-06 18:16:51.591608: I tensorflow/stream_executor/cuda/cuda_diagnostics.cc:156] kernel driver does not appear to be running on this host (Z3NB00K): /proc/driver/nvidia/version does not exist\n",
      "2022-12-06 18:16:51.591882: I tensorflow/core/platform/cpu_feature_guard.cc:151] This TensorFlow binary is optimized with oneAPI Deep Neural Network Library (oneDNN) to use the following CPU instructions in performance-critical operations:  AVX2 FMA\n",
      "To enable them in other operations, rebuild TensorFlow with the appropriate compiler flags.\n"
     ]
    }
   ],
   "source": [
    "# This model is too complicated, see further down for the model which is in progress\n",
    "\n",
    "model = keras.models.Sequential([\n",
    "    keras.layers.Input(shape=train_data.shape[1:]),\n",
    "    #keras.layers.MaxPool2D((2,2), input_shape=train_data.shape[1:]),\n",
    "    keras.layers.Conv2D(8, (3,3), activation=\"relu\"),\n",
    "    keras.layers.MaxPool2D((2,2)),\n",
    "    keras.layers.Dropout(0.5),\n",
    "    keras.layers.Conv2D(16, (3,3), activation=\"relu\"),\n",
    "    keras.layers.MaxPool2D((2,2)),\n",
    "    keras.layers.Conv2D(32, (3,3), activation=\"relu\"),\n",
    "    keras.layers.MaxPool2D((2,2)),\n",
    "    keras.layers.Conv2D(64, (3,3), activation=\"relu\"),\n",
    "    keras.layers.MaxPool2D((2,2)),\n",
    "    #keras.layers.Conv2D(128, (3,3), activation=\"relu\"),\n",
    "    #keras.layers.MaxPool2D((2,2)),\n",
    "    #keras.layers.Conv2D(256, (3,3), activation=\"relu\"),\n",
    "    #keras.layers.MaxPool2D((2,2)),\n",
    "    keras.layers.Dropout(0.5),\n",
    "    keras.layers.Flatten(),\n",
    "    keras.layers.Dense(100, activation=\"relu\"),\n",
    "    keras.layers.Dense(70, activation=\"relu\"),\n",
    "    keras.layers.Dense(classes, activation=\"softmax\")\n",
    "    ])\n",
    "\n",
    "model.compile(optimizer=\"adam\", loss=\"sparse_categorical_crossentropy\", metrics=[\"accuracy\"])\n",
    "#model.summary()\n",
    "\n"
   ]
  },
  {
   "cell_type": "code",
   "execution_count": 13,
   "metadata": {},
   "outputs": [
    {
     "name": "stdout",
     "output_type": "stream",
     "text": [
      "Epoch 1/50\n",
      "3/3 [==============================] - 1s 127ms/step - loss: 1.0175 - accuracy: 0.4795 - val_loss: 0.9198 - val_accuracy: 0.5000\n",
      "Epoch 2/50\n",
      "3/3 [==============================] - 0s 65ms/step - loss: 0.9936 - accuracy: 0.5479 - val_loss: 0.9156 - val_accuracy: 0.7273\n",
      "Epoch 3/50\n",
      "3/3 [==============================] - 0s 77ms/step - loss: 0.9348 - accuracy: 0.5753 - val_loss: 0.9754 - val_accuracy: 0.8636\n",
      "Epoch 4/50\n",
      "3/3 [==============================] - 0s 79ms/step - loss: 0.8903 - accuracy: 0.5753 - val_loss: 1.0119 - val_accuracy: 0.5000\n",
      "Epoch 5/50\n",
      "3/3 [==============================] - 0s 76ms/step - loss: 0.8421 - accuracy: 0.5479 - val_loss: 0.9260 - val_accuracy: 0.8182\n",
      "Epoch 6/50\n",
      "3/3 [==============================] - 0s 90ms/step - loss: 0.6867 - accuracy: 0.7260 - val_loss: 0.8412 - val_accuracy: 0.8182\n",
      "Epoch 7/50\n",
      "3/3 [==============================] - 0s 80ms/step - loss: 0.6608 - accuracy: 0.6575 - val_loss: 0.7898 - val_accuracy: 0.8182\n",
      "Epoch 8/50\n",
      "3/3 [==============================] - 0s 71ms/step - loss: 0.5795 - accuracy: 0.7534 - val_loss: 0.8332 - val_accuracy: 0.7727\n",
      "Epoch 9/50\n",
      "3/3 [==============================] - 0s 69ms/step - loss: 0.4244 - accuracy: 0.8904 - val_loss: 0.8225 - val_accuracy: 0.7727\n",
      "Epoch 10/50\n",
      "3/3 [==============================] - 0s 76ms/step - loss: 0.5073 - accuracy: 0.7808 - val_loss: 0.6474 - val_accuracy: 0.8636\n",
      "Epoch 11/50\n",
      "3/3 [==============================] - 0s 68ms/step - loss: 0.3968 - accuracy: 0.8356 - val_loss: 0.6912 - val_accuracy: 0.7727\n",
      "Epoch 12/50\n",
      "3/3 [==============================] - 0s 65ms/step - loss: 0.3126 - accuracy: 0.8356 - val_loss: 0.7522 - val_accuracy: 0.6818\n",
      "Epoch 13/50\n",
      "3/3 [==============================] - 0s 69ms/step - loss: 0.3248 - accuracy: 0.8904 - val_loss: 0.6306 - val_accuracy: 0.8182\n",
      "Epoch 14/50\n",
      "3/3 [==============================] - 0s 70ms/step - loss: 0.2780 - accuracy: 0.8904 - val_loss: 0.5481 - val_accuracy: 0.7727\n",
      "Epoch 15/50\n",
      "3/3 [==============================] - 0s 65ms/step - loss: 0.2328 - accuracy: 0.8767 - val_loss: 0.5310 - val_accuracy: 0.8636\n",
      "Epoch 16/50\n",
      "3/3 [==============================] - 0s 66ms/step - loss: 0.2265 - accuracy: 0.9041 - val_loss: 0.5890 - val_accuracy: 0.8636\n",
      "Epoch 17/50\n",
      "3/3 [==============================] - 0s 65ms/step - loss: 0.1631 - accuracy: 0.9589 - val_loss: 0.3778 - val_accuracy: 1.0000\n",
      "Epoch 18/50\n",
      "3/3 [==============================] - 0s 62ms/step - loss: 0.1486 - accuracy: 0.9315 - val_loss: 0.2967 - val_accuracy: 1.0000\n",
      "Epoch 19/50\n",
      "3/3 [==============================] - 0s 79ms/step - loss: 0.1720 - accuracy: 0.9452 - val_loss: 0.3315 - val_accuracy: 1.0000\n",
      "Epoch 20/50\n",
      "3/3 [==============================] - 0s 66ms/step - loss: 0.0841 - accuracy: 0.9726 - val_loss: 0.4572 - val_accuracy: 0.8636\n",
      "Epoch 21/50\n",
      "3/3 [==============================] - 0s 80ms/step - loss: 0.0973 - accuracy: 0.9452 - val_loss: 0.3348 - val_accuracy: 1.0000\n",
      "Epoch 22/50\n",
      "3/3 [==============================] - 0s 71ms/step - loss: 0.0890 - accuracy: 0.9726 - val_loss: 0.2618 - val_accuracy: 1.0000\n",
      "Epoch 23/50\n",
      "3/3 [==============================] - 0s 66ms/step - loss: 0.0451 - accuracy: 0.9863 - val_loss: 0.2350 - val_accuracy: 1.0000\n",
      "Epoch 24/50\n",
      "3/3 [==============================] - 0s 66ms/step - loss: 0.1065 - accuracy: 0.9863 - val_loss: 0.2052 - val_accuracy: 1.0000\n",
      "Epoch 25/50\n",
      "3/3 [==============================] - 0s 73ms/step - loss: 0.0746 - accuracy: 0.9863 - val_loss: 0.2265 - val_accuracy: 1.0000\n",
      "Epoch 26/50\n",
      "3/3 [==============================] - 0s 73ms/step - loss: 0.0266 - accuracy: 1.0000 - val_loss: 0.2487 - val_accuracy: 1.0000\n",
      "Epoch 27/50\n",
      "3/3 [==============================] - 0s 78ms/step - loss: 0.0900 - accuracy: 0.9726 - val_loss: 0.1750 - val_accuracy: 1.0000\n",
      "Epoch 28/50\n",
      "3/3 [==============================] - 0s 76ms/step - loss: 0.0727 - accuracy: 0.9726 - val_loss: 0.1730 - val_accuracy: 1.0000\n",
      "Epoch 29/50\n",
      "3/3 [==============================] - 0s 76ms/step - loss: 0.0192 - accuracy: 0.9863 - val_loss: 0.2280 - val_accuracy: 1.0000\n",
      "Epoch 30/50\n",
      "3/3 [==============================] - 0s 74ms/step - loss: 0.0332 - accuracy: 1.0000 - val_loss: 0.2338 - val_accuracy: 1.0000\n",
      "Epoch 31/50\n",
      "3/3 [==============================] - 0s 72ms/step - loss: 0.0817 - accuracy: 0.9863 - val_loss: 0.1841 - val_accuracy: 1.0000\n",
      "Epoch 32/50\n",
      "3/3 [==============================] - 0s 71ms/step - loss: 0.0123 - accuracy: 1.0000 - val_loss: 0.1556 - val_accuracy: 1.0000\n",
      "Epoch 33/50\n",
      "3/3 [==============================] - 0s 75ms/step - loss: 0.0232 - accuracy: 0.9863 - val_loss: 0.1307 - val_accuracy: 1.0000\n",
      "Epoch 34/50\n",
      "3/3 [==============================] - 0s 71ms/step - loss: 0.0132 - accuracy: 1.0000 - val_loss: 0.1092 - val_accuracy: 1.0000\n",
      "Epoch 35/50\n",
      "3/3 [==============================] - 0s 62ms/step - loss: 0.0441 - accuracy: 0.9863 - val_loss: 0.1262 - val_accuracy: 1.0000\n",
      "Epoch 36/50\n",
      "3/3 [==============================] - 0s 63ms/step - loss: 0.0186 - accuracy: 1.0000 - val_loss: 0.1604 - val_accuracy: 1.0000\n",
      "Epoch 37/50\n",
      "3/3 [==============================] - 0s 63ms/step - loss: 0.0116 - accuracy: 1.0000 - val_loss: 0.1474 - val_accuracy: 1.0000\n",
      "Epoch 38/50\n",
      "3/3 [==============================] - 0s 75ms/step - loss: 0.0848 - accuracy: 0.9726 - val_loss: 0.1263 - val_accuracy: 1.0000\n",
      "Epoch 39/50\n",
      "3/3 [==============================] - 0s 70ms/step - loss: 0.0212 - accuracy: 1.0000 - val_loss: 0.1208 - val_accuracy: 1.0000\n",
      "Epoch 40/50\n",
      "3/3 [==============================] - 0s 75ms/step - loss: 0.0301 - accuracy: 0.9863 - val_loss: 0.1226 - val_accuracy: 1.0000\n",
      "Epoch 41/50\n",
      "3/3 [==============================] - 0s 63ms/step - loss: 0.0102 - accuracy: 1.0000 - val_loss: 0.1182 - val_accuracy: 1.0000\n",
      "Epoch 42/50\n",
      "3/3 [==============================] - 0s 66ms/step - loss: 0.0136 - accuracy: 1.0000 - val_loss: 0.1350 - val_accuracy: 1.0000\n",
      "Epoch 43/50\n",
      "3/3 [==============================] - 0s 65ms/step - loss: 0.0219 - accuracy: 0.9863 - val_loss: 0.1569 - val_accuracy: 1.0000\n",
      "Epoch 44/50\n",
      "3/3 [==============================] - 0s 62ms/step - loss: 0.0259 - accuracy: 0.9863 - val_loss: 0.1616 - val_accuracy: 1.0000\n",
      "Epoch 45/50\n",
      "3/3 [==============================] - 0s 64ms/step - loss: 0.0241 - accuracy: 0.9863 - val_loss: 0.1563 - val_accuracy: 1.0000\n",
      "Epoch 46/50\n",
      "3/3 [==============================] - 0s 70ms/step - loss: 0.1067 - accuracy: 0.9726 - val_loss: 0.2596 - val_accuracy: 1.0000\n",
      "Epoch 47/50\n",
      "3/3 [==============================] - 0s 63ms/step - loss: 0.0324 - accuracy: 0.9863 - val_loss: 0.3364 - val_accuracy: 0.9545\n",
      "Epoch 48/50\n",
      "3/3 [==============================] - 0s 65ms/step - loss: 0.0324 - accuracy: 0.9726 - val_loss: 0.3346 - val_accuracy: 1.0000\n",
      "Epoch 49/50\n",
      "3/3 [==============================] - 0s 63ms/step - loss: 0.0110 - accuracy: 1.0000 - val_loss: 0.2914 - val_accuracy: 1.0000\n",
      "Epoch 50/50\n",
      "3/3 [==============================] - 0s 62ms/step - loss: 0.0293 - accuracy: 0.9863 - val_loss: 0.2344 - val_accuracy: 1.0000\n"
     ]
    }
   ],
   "source": [
    "#callback = keras.callbacks.EarlyStopping(monitor=\"loss\", verbose=1, patience=10, min_delta=0.0001, mode=\"auto\")\n",
    "history = model.fit(train_data, train_labels, validation_data=(validation_data, validation_labels), batch_size=32, epochs=50)#, callbacks=[callback])"
   ]
  },
  {
   "cell_type": "code",
   "execution_count": 14,
   "metadata": {},
   "outputs": [
    {
     "data": {
      "text/plain": [
       "<matplotlib.legend.Legend at 0x7fc6b807cd00>"
      ]
     },
     "execution_count": 14,
     "metadata": {},
     "output_type": "execute_result"
    },
    {
     "data": {
      "image/png": "[encoded data removed]",
      "text/plain": [
       "<Figure size 1008x432 with 2 Axes>"
      ]
     },
     "metadata": {
      "needs_background": "light"
     },
     "output_type": "display_data"
    }
   ],
   "source": [
    "plt.figure(figsize=(14,6))\n",
    "plt.subplot(1,2,1)\n",
    "plt.title('Model Accuracy')\n",
    "plt.xlabel('Epochs')\n",
    "plt.ylabel('Accuracy')\n",
    "plt.plot(history.history['accuracy'], label='train')\n",
    "plt.plot(history.history['val_accuracy'], label='validation')\n",
    "plt.legend()\n",
    "\n",
    "plt.subplot(1,2,2)\n",
    "plt.title('Model loss')\n",
    "plt.ylabel('Loss')\n",
    "plt.xlabel('Epochs')\n",
    "plt.plot(history.history['loss'], label=\"train\")\n",
    "plt.plot(history.history['val_loss'], label=\"validation\")\n",
    "plt.legend()"
   ]
  },
  {
   "cell_type": "code",
   "execution_count": 15,
   "metadata": {},
   "outputs": [],
   "source": [
    "#model.save(\"model_122k\")"
   ]
  },
  {
   "cell_type": "code",
   "execution_count": 16,
   "metadata": {},
   "outputs": [
    {
     "data": {
      "image/png": "[encoded data removed]",
      "text/plain": [
       "<PIL.Image.Image image mode=RGB size=160x120 at 0x7FC6D03C5B50>"
      ]
     },
     "execution_count": 16,
     "metadata": {},
     "output_type": "execute_result"
    }
   ],
   "source": [
    "keras.utils.array_to_img(validation_data[0])"
   ]
  },
  {
   "cell_type": "code",
   "execution_count": 17,
   "metadata": {},
   "outputs": [
    {
     "data": {
      "text/plain": [
       "(1, 120, 160, 3)"
      ]
     },
     "execution_count": 17,
     "metadata": {},
     "output_type": "execute_result"
    }
   ],
   "source": [
    "img_axis = validation_data[0][None,:,:,:]\n",
    "img_axis.shape"
   ]
  },
  {
   "cell_type": "code",
   "execution_count": 18,
   "metadata": {},
   "outputs": [
    {
     "name": "stdout",
     "output_type": "stream",
     "text": [
      "[[0.13 0.09 0.79]]\n"
     ]
    },
    {
     "data": {
      "text/plain": [
       "array(['Simon'], dtype='<U6')"
      ]
     },
     "execution_count": 18,
     "metadata": {},
     "output_type": "execute_result"
    }
   ],
   "source": [
    "pred = model.predict(img_axis)\n",
    "with np.printoptions(precision=2, suppress=True):\n",
    "    print(pred)\n",
    "le.inverse_transform([np.argmax(pred)])"
   ]
  },
  {
   "cell_type": "code",
   "execution_count": 19,
   "metadata": {},
   "outputs": [],
   "source": [
    "# This model should not be used either, kept for reference\n",
    "model_45k = keras.models.Sequential([\n",
    "    keras.layers.Input(shape=train_data.shape[1:]),\n",
    "    keras.layers.MaxPool2D((2,2), input_shape=train_data.shape[1:]),\n",
    "    keras.layers.Dropout(0.5),\n",
    "    keras.layers.Conv2D(16, (3,3), activation=\"relu\"),\n",
    "    keras.layers.MaxPool2D((2,2)),\n",
    "    keras.layers.Conv2D(32, (3,3), activation=\"relu\"),\n",
    "    keras.layers.MaxPool2D((2,2)),\n",
    "    keras.layers.Conv2D(32, (3,3), activation=\"relu\"),\n",
    "    keras.layers.MaxPool2D((2,2)),\n",
    "    keras.layers.Conv2D(32, (3,3), activation=\"relu\"),\n",
    "    keras.layers.MaxPool2D((2,2)),\n",
    "    keras.layers.Flatten(),\n",
    "    keras.layers.Dense(classes, activation=\"softmax\")\n",
    "    ])\n",
    "\n",
    "model_45k.compile(optimizer=\"adam\", loss=\"sparse_categorical_crossentropy\", metrics=[\"accuracy\"])\n",
    "#model_45k.summary()"
   ]
  },
  {
   "cell_type": "code",
   "execution_count": 20,
   "metadata": {},
   "outputs": [
    {
     "name": "stdout",
     "output_type": "stream",
     "text": [
      "Epoch 1/50\n",
      "3/3 [==============================] - 1s 85ms/step - loss: 1.1184 - accuracy: 0.3151 - val_loss: 1.0209 - val_accuracy: 0.5909\n",
      "Epoch 2/50\n",
      "3/3 [==============================] - 0s 35ms/step - loss: 1.0200 - accuracy: 0.4247 - val_loss: 0.9715 - val_accuracy: 0.9091\n",
      "Epoch 3/50\n",
      "3/3 [==============================] - 0s 34ms/step - loss: 0.9893 - accuracy: 0.4384 - val_loss: 0.9587 - val_accuracy: 0.8636\n",
      "Epoch 4/50\n",
      "3/3 [==============================] - 0s 35ms/step - loss: 0.9719 - accuracy: 0.5479 - val_loss: 0.9463 - val_accuracy: 0.9091\n",
      "Epoch 5/50\n",
      "3/3 [==============================] - 0s 41ms/step - loss: 0.9407 - accuracy: 0.6575 - val_loss: 0.9266 - val_accuracy: 0.6818\n",
      "Epoch 6/50\n",
      "3/3 [==============================] - 0s 40ms/step - loss: 0.9297 - accuracy: 0.6712 - val_loss: 0.8871 - val_accuracy: 0.7727\n",
      "Epoch 7/50\n",
      "3/3 [==============================] - 0s 37ms/step - loss: 0.8798 - accuracy: 0.6575 - val_loss: 0.8454 - val_accuracy: 0.9091\n",
      "Epoch 8/50\n",
      "3/3 [==============================] - 0s 37ms/step - loss: 0.8495 - accuracy: 0.5890 - val_loss: 0.8391 - val_accuracy: 0.8636\n",
      "Epoch 9/50\n",
      "3/3 [==============================] - 0s 34ms/step - loss: 0.8130 - accuracy: 0.6164 - val_loss: 0.8381 - val_accuracy: 0.8182\n",
      "Epoch 10/50\n",
      "3/3 [==============================] - 0s 37ms/step - loss: 0.7660 - accuracy: 0.6438 - val_loss: 0.7965 - val_accuracy: 0.9091\n",
      "Epoch 11/50\n",
      "3/3 [==============================] - 0s 37ms/step - loss: 0.7145 - accuracy: 0.6164 - val_loss: 0.7214 - val_accuracy: 0.7273\n",
      "Epoch 12/50\n",
      "3/3 [==============================] - 0s 33ms/step - loss: 0.6765 - accuracy: 0.7397 - val_loss: 0.6752 - val_accuracy: 0.7273\n",
      "Epoch 13/50\n",
      "3/3 [==============================] - 0s 32ms/step - loss: 0.6159 - accuracy: 0.6712 - val_loss: 0.6458 - val_accuracy: 0.9091\n",
      "Epoch 14/50\n",
      "3/3 [==============================] - 0s 40ms/step - loss: 0.5506 - accuracy: 0.7397 - val_loss: 0.6476 - val_accuracy: 0.7273\n",
      "Epoch 15/50\n",
      "3/3 [==============================] - 0s 33ms/step - loss: 0.5634 - accuracy: 0.7945 - val_loss: 0.6010 - val_accuracy: 0.7727\n",
      "Epoch 16/50\n",
      "3/3 [==============================] - 0s 33ms/step - loss: 0.4765 - accuracy: 0.7808 - val_loss: 0.5583 - val_accuracy: 0.9091\n",
      "Epoch 17/50\n",
      "3/3 [==============================] - 0s 32ms/step - loss: 0.4681 - accuracy: 0.7945 - val_loss: 0.4884 - val_accuracy: 0.7273\n",
      "Epoch 18/50\n",
      "3/3 [==============================] - 0s 32ms/step - loss: 0.4132 - accuracy: 0.8356 - val_loss: 0.4502 - val_accuracy: 0.9545\n",
      "Epoch 19/50\n",
      "3/3 [==============================] - 0s 33ms/step - loss: 0.3579 - accuracy: 0.8904 - val_loss: 0.5087 - val_accuracy: 0.7727\n",
      "Epoch 20/50\n",
      "3/3 [==============================] - 0s 30ms/step - loss: 0.4027 - accuracy: 0.8630 - val_loss: 0.5048 - val_accuracy: 0.7727\n",
      "Epoch 21/50\n",
      "3/3 [==============================] - 0s 30ms/step - loss: 0.3066 - accuracy: 0.9041 - val_loss: 0.3910 - val_accuracy: 1.0000\n",
      "Epoch 22/50\n",
      "3/3 [==============================] - 0s 38ms/step - loss: 0.3143 - accuracy: 0.8904 - val_loss: 0.3338 - val_accuracy: 0.8636\n",
      "Epoch 23/50\n",
      "3/3 [==============================] - 0s 36ms/step - loss: 0.3346 - accuracy: 0.8219 - val_loss: 0.3430 - val_accuracy: 0.9545\n",
      "Epoch 24/50\n",
      "3/3 [==============================] - 0s 33ms/step - loss: 0.2434 - accuracy: 0.9315 - val_loss: 0.4432 - val_accuracy: 1.0000\n",
      "Epoch 25/50\n",
      "3/3 [==============================] - 0s 34ms/step - loss: 0.2734 - accuracy: 0.9178 - val_loss: 0.2975 - val_accuracy: 1.0000\n",
      "Epoch 26/50\n",
      "3/3 [==============================] - 0s 36ms/step - loss: 0.1892 - accuracy: 0.9452 - val_loss: 0.2848 - val_accuracy: 1.0000\n",
      "Epoch 27/50\n",
      "3/3 [==============================] - 0s 34ms/step - loss: 0.1906 - accuracy: 0.9315 - val_loss: 0.2260 - val_accuracy: 1.0000\n",
      "Epoch 28/50\n",
      "3/3 [==============================] - 0s 34ms/step - loss: 0.1575 - accuracy: 1.0000 - val_loss: 0.2220 - val_accuracy: 1.0000\n",
      "Epoch 29/50\n",
      "3/3 [==============================] - 0s 38ms/step - loss: 0.1405 - accuracy: 0.9726 - val_loss: 0.2335 - val_accuracy: 1.0000\n",
      "Epoch 30/50\n",
      "3/3 [==============================] - 0s 37ms/step - loss: 0.1451 - accuracy: 0.9178 - val_loss: 0.1747 - val_accuracy: 1.0000\n",
      "Epoch 31/50\n",
      "3/3 [==============================] - 0s 40ms/step - loss: 0.1303 - accuracy: 0.9589 - val_loss: 0.1327 - val_accuracy: 1.0000\n",
      "Epoch 32/50\n",
      "3/3 [==============================] - 0s 35ms/step - loss: 0.0969 - accuracy: 0.9726 - val_loss: 0.1436 - val_accuracy: 1.0000\n",
      "Epoch 33/50\n",
      "3/3 [==============================] - 0s 36ms/step - loss: 0.0722 - accuracy: 0.9863 - val_loss: 0.1701 - val_accuracy: 1.0000\n",
      "Epoch 34/50\n",
      "3/3 [==============================] - 0s 35ms/step - loss: 0.0838 - accuracy: 0.9726 - val_loss: 0.1503 - val_accuracy: 1.0000\n",
      "Epoch 35/50\n",
      "3/3 [==============================] - 0s 35ms/step - loss: 0.0790 - accuracy: 0.9863 - val_loss: 0.1050 - val_accuracy: 1.0000\n",
      "Epoch 36/50\n",
      "3/3 [==============================] - 0s 37ms/step - loss: 0.0795 - accuracy: 1.0000 - val_loss: 0.1469 - val_accuracy: 1.0000\n",
      "Epoch 37/50\n",
      "3/3 [==============================] - 0s 37ms/step - loss: 0.0686 - accuracy: 0.9863 - val_loss: 0.1323 - val_accuracy: 1.0000\n",
      "Epoch 38/50\n",
      "3/3 [==============================] - 0s 38ms/step - loss: 0.0411 - accuracy: 1.0000 - val_loss: 0.1195 - val_accuracy: 1.0000\n",
      "Epoch 39/50\n",
      "3/3 [==============================] - 0s 35ms/step - loss: 0.0371 - accuracy: 1.0000 - val_loss: 0.0990 - val_accuracy: 1.0000\n",
      "Epoch 40/50\n",
      "3/3 [==============================] - 0s 37ms/step - loss: 0.0386 - accuracy: 1.0000 - val_loss: 0.0706 - val_accuracy: 1.0000\n",
      "Epoch 41/50\n",
      "3/3 [==============================] - 0s 37ms/step - loss: 0.0358 - accuracy: 1.0000 - val_loss: 0.0766 - val_accuracy: 1.0000\n",
      "Epoch 42/50\n",
      "3/3 [==============================] - 0s 37ms/step - loss: 0.0176 - accuracy: 1.0000 - val_loss: 0.0945 - val_accuracy: 1.0000\n",
      "Epoch 43/50\n",
      "3/3 [==============================] - 0s 36ms/step - loss: 0.0265 - accuracy: 1.0000 - val_loss: 0.0911 - val_accuracy: 1.0000\n",
      "Epoch 44/50\n",
      "3/3 [==============================] - 0s 36ms/step - loss: 0.0172 - accuracy: 1.0000 - val_loss: 0.0678 - val_accuracy: 1.0000\n",
      "Epoch 45/50\n",
      "3/3 [==============================] - 0s 37ms/step - loss: 0.0159 - accuracy: 1.0000 - val_loss: 0.0524 - val_accuracy: 1.0000\n",
      "Epoch 46/50\n",
      "3/3 [==============================] - 0s 39ms/step - loss: 0.0216 - accuracy: 1.0000 - val_loss: 0.0540 - val_accuracy: 1.0000\n",
      "Epoch 47/50\n",
      "3/3 [==============================] - 0s 38ms/step - loss: 0.0166 - accuracy: 1.0000 - val_loss: 0.0400 - val_accuracy: 1.0000\n",
      "Epoch 48/50\n",
      "3/3 [==============================] - 0s 34ms/step - loss: 0.0234 - accuracy: 1.0000 - val_loss: 0.0353 - val_accuracy: 1.0000\n",
      "Epoch 49/50\n",
      "3/3 [==============================] - 0s 37ms/step - loss: 0.0223 - accuracy: 1.0000 - val_loss: 0.0439 - val_accuracy: 1.0000\n",
      "Epoch 50/50\n",
      "3/3 [==============================] - 0s 37ms/step - loss: 0.0109 - accuracy: 1.0000 - val_loss: 0.0603 - val_accuracy: 1.0000\n"
     ]
    }
   ],
   "source": [
    "history_45k = model_45k.fit(train_data, train_labels, validation_data=(validation_data, validation_labels), batch_size=32, epochs=50)#, callbacks=[callback])"
   ]
  },
  {
   "cell_type": "code",
   "execution_count": 21,
   "metadata": {},
   "outputs": [
    {
     "data": {
      "text/plain": [
       "[<matplotlib.lines.Line2D at 0x7fc69409c970>]"
      ]
     },
     "execution_count": 21,
     "metadata": {},
     "output_type": "execute_result"
    },
    {
     "data": {
      "image/png": "[encoded data removed]",
      "text/plain": [
       "<Figure size 1008x432 with 2 Axes>"
      ]
     },
     "metadata": {
      "needs_background": "light"
     },
     "output_type": "display_data"
    }
   ],
   "source": [
    "plt.figure(figsize=(14,6))\n",
    "plt.subplot(1,2,1)\n",
    "plt.title('Model Accuracy')\n",
    "plt.xlabel('Epochs')\n",
    "plt.ylabel('Accuracy')\n",
    "plt.plot(history_45k.history['accuracy'], label='train')\n",
    "plt.plot(history_45k.history['val_accuracy'], label='validation')\n",
    "plt.legend()\n",
    "\n",
    "plt.subplot(1,2,2)\n",
    "plt.title('Model loss')\n",
    "plt.ylabel('Loss')\n",
    "plt.xlabel('Epochs')\n",
    "plt.plot(history_45k.history['loss'], label=\"train\")\n",
    "plt.plot(history_45k.history['val_loss'], label=\"validation\")"
   ]
  },
  {
   "cell_type": "code",
   "execution_count": null,
   "metadata": {},
   "outputs": [],
   "source": [
    "#model_45k.save(\"model_45k\")"
   ]
  }
 ],
 "metadata": {
  "kernelspec": {
   "display_name": "Python 3.8.8 ('base')",
   "language": "python",
   "name": "python3"
  },
  "language_info": {
   "codemirror_mode": {
    "name": "ipython",
    "version": 3
   },
   "file_extension": ".py",
   "mimetype": "text/x-python",
   "name": "python",
   "nbconvert_exporter": "python",
   "pygments_lexer": "ipython3",
   "version": "3.8.8"
  },
  "orig_nbformat": 4,
  "vscode": {
   "interpreter": {
    "hash": "d0088029b3bf0883d79fb316fdd34e9e1ba6cd66820b181ce01ee6eba35b10f3"
   }
  }
 },
 "nbformat": 4,
 "nbformat_minor": 2
}
