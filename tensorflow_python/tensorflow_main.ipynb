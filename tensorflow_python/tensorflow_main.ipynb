{
 "cells": [
  {
   "cell_type": "markdown",
   "metadata": {},
   "source": [
    "## Authors of the document\n",
    "### This file was mainly written by Simon Erlandsson, with Nikhil Challa as team member.\n",
    "\n",
    "Some code in the beginning of the file was re-used from before the group split,\n",
    "their respective authors are listed in the Git README."
   ]
  },
  {
   "cell_type": "code",
   "execution_count": 1,
   "metadata": {},
   "outputs": [
    {
     "name": "stderr",
     "output_type": "stream",
     "text": [
      "2022-12-08 17:32:33.312325: W tensorflow/stream_executor/platform/default/dso_loader.cc:64] Could not load dynamic library 'libcudart.so.11.0'; dlerror: libcudart.so.11.0: cannot open shared object file: No such file or directory\n",
      "2022-12-08 17:32:33.312343: I tensorflow/stream_executor/cuda/cudart_stub.cc:29] Ignore above cudart dlerror if you do not have a GPU set up on your machine.\n"
     ]
    }
   ],
   "source": [
    "from tensorflow import keras\n",
    "import tensorflow as tf\n",
    "import numpy as np\n",
    "from pathlib import Path\n",
    "from matplotlib import pyplot as plt\n",
    "from sklearn.preprocessing import LabelEncoder\n",
    "from sklearn import model_selection"
   ]
  },
  {
   "cell_type": "code",
   "execution_count": 2,
   "metadata": {},
   "outputs": [],
   "source": [
    "path = Path(\"../datasets/Images_Transformed_565_160_120\")\n",
    "with open(path/'data.npy', 'rb') as d, open(path/\"labels.npy\", \"rb\") as l, open(path/\"classes.npy\", \"rb\") as c:\n",
    "    data = np.load(d)\n",
    "    labels = np.load(l)\n",
    "    classes = np.load(c)\n",
    "le = LabelEncoder()\n",
    "le.classes_ = classes"
   ]
  },
  {
   "cell_type": "code",
   "execution_count": 3,
   "metadata": {},
   "outputs": [
    {
     "name": "stdout",
     "output_type": "stream",
     "text": [
      "(130,)\n",
      "(130, 120, 160, 3)\n",
      "['Maria' 'Nikhil' 'Simon']\n"
     ]
    }
   ],
   "source": [
    "print(labels.shape)\n",
    "print(data.shape)\n",
    "print(classes)"
   ]
  },
  {
   "cell_type": "code",
   "execution_count": 4,
   "metadata": {},
   "outputs": [
    {
     "name": "stdout",
     "output_type": "stream",
     "text": [
      "Counter({2: 49, 0: 45, 1: 36})\n"
     ]
    }
   ],
   "source": [
    "from collections import Counter\n",
    "print(Counter(labels))"
   ]
  },
  {
   "cell_type": "code",
   "execution_count": 5,
   "metadata": {},
   "outputs": [],
   "source": [
    "# Helper functions\n",
    "def _565_channels_normalize(data: np.ndarray) -> np.ndarray:\n",
    "    width, height, chan = data.shape\n",
    "    channels = np.zeros(shape=(width, height, chan), dtype=np.float16)\n",
    "\n",
    "    for x in range(width):\n",
    "        for y in range(height):\n",
    "            channels[x, y, 0] = data[x, y, 0] / 32\n",
    "            channels[x, y, 1] = data[x, y, 1] / 64\n",
    "            channels[x, y, 2] = data[x, y, 2] / 32\n",
    "\n",
    "    return channels\n",
    "\n",
    "# If we want to reverse the normalization -> 888\n",
    "def normalized_to_888(data: np.ndarray) -> np.ndarray:\n",
    "    width, height, chan = data.shape\n",
    "    channels = np.zeros(shape=(width, height, chan), dtype=np.uint16)\n",
    "\n",
    "    for x in range(width):\n",
    "        for y in range(height):\n",
    "            channels[x, y, 0] = data[x, y, 0] * 255\n",
    "            channels[x, y, 1] = data[x, y, 1] * 255\n",
    "            channels[x, y, 2] = data[x, y, 2] * 255\n",
    "\n",
    "    return channels"
   ]
  },
  {
   "cell_type": "code",
   "execution_count": 6,
   "metadata": {},
   "outputs": [],
   "source": [
    "# Normalize 565 channels\n",
    "unscaled_data = data\n",
    "\n",
    "data = []\n",
    "for img in unscaled_data:\n",
    "    data.append(_565_channels_normalize(img))\n",
    "data = np.array(data)\n"
   ]
  },
  {
   "cell_type": "code",
   "execution_count": 7,
   "metadata": {},
   "outputs": [
    {
     "name": "stdout",
     "output_type": "stream",
     "text": [
      "train data shape: (91, 120, 160, 3)\n",
      "validation data shape: (27, 120, 160, 3)\n",
      "train labels shape: (91,)\n",
      "validation labels shape: (27,)\n",
      "test labels shape: (12, 120, 160, 3)\n",
      "test labels shape: (12,)\n"
     ]
    }
   ],
   "source": [
    "train_data, validation_data, train_labels, validation_labels = model_selection.train_test_split(data,labels, random_state=50,test_size=0.3)\n",
    "validation_data, test_data, validation_labels, test_labels = model_selection.train_test_split(validation_data,validation_labels, random_state=50,test_size=0.3)\n",
    "\n",
    "print('train data shape:',np.shape(train_data))\n",
    "print('validation data shape:',np.shape(validation_data))\n",
    "print('train labels shape:',np.shape(train_labels))\n",
    "print('validation labels shape:',np.shape(validation_labels))\n",
    "print('test labels shape:',np.shape(test_data))\n",
    "print('test labels shape:',np.shape(test_labels))"
   ]
  },
  {
   "cell_type": "code",
   "execution_count": 8,
   "metadata": {},
   "outputs": [
    {
     "name": "stdout",
     "output_type": "stream",
     "text": [
      "[[[[0.8438  0.8594  0.8125 ]\n",
      "   [0.875   0.8594  0.8125 ]\n",
      "   [0.875   0.875   0.8125 ]\n",
      "   ...\n",
      "   [0.8438  0.797   0.75   ]\n",
      "   [0.8125  0.797   0.7188 ]\n",
      "   [0.8438  0.8125  0.7188 ]]\n",
      "\n",
      "  [[0.8438  0.828   0.6875 ]\n",
      "   [0.875   0.8438  0.7188 ]\n",
      "   [0.9062  0.875   0.7188 ]\n",
      "   ...\n",
      "   [0.8125  0.7656  0.625  ]\n",
      "   [0.7812  0.7656  0.625  ]\n",
      "   [0.8125  0.797   0.6562 ]]\n",
      "\n",
      "  [[0.8438  0.8438  0.7188 ]\n",
      "   [0.875   0.8594  0.7188 ]\n",
      "   [0.875   0.875   0.75   ]\n",
      "   ...\n",
      "   [0.8125  0.7812  0.6562 ]\n",
      "   [0.8125  0.7656  0.6562 ]\n",
      "   [0.8125  0.8125  0.6562 ]]\n",
      "\n",
      "  ...\n",
      "\n",
      "  [[0.2188  0.3281  0.2812 ]\n",
      "   [0.25    0.3438  0.3125 ]\n",
      "   [0.2812  0.3594  0.3125 ]\n",
      "   ...\n",
      "   [0.9062  0.8594  0.7188 ]\n",
      "   [0.875   0.828   0.6875 ]\n",
      "   [0.875   0.8438  0.6875 ]]\n",
      "\n",
      "  [[0.2188  0.2969  0.2812 ]\n",
      "   [0.25    0.3438  0.3125 ]\n",
      "   [0.2812  0.3594  0.3125 ]\n",
      "   ...\n",
      "   [0.875   0.8594  0.7188 ]\n",
      "   [0.875   0.828   0.6875 ]\n",
      "   [0.875   0.8594  0.6875 ]]\n",
      "\n",
      "  [[0.2188  0.3125  0.2812 ]\n",
      "   [0.2812  0.3594  0.3125 ]\n",
      "   [0.2812  0.375   0.3125 ]\n",
      "   ...\n",
      "   [0.9062  0.875   0.7188 ]\n",
      "   [0.875   0.8125  0.6875 ]\n",
      "   [0.875   0.8594  0.6875 ]]]\n",
      "\n",
      "\n",
      " [[[0.6562  0.6406  0.6875 ]\n",
      "   [0.6562  0.6406  0.6875 ]\n",
      "   [0.6562  0.6562  0.6875 ]\n",
      "   ...\n",
      "   [0.25    0.2969  0.3438 ]\n",
      "   [0.25    0.3125  0.3438 ]\n",
      "   [0.25    0.2969  0.3438 ]]\n",
      "\n",
      "  [[0.625   0.625   0.5625 ]\n",
      "   [0.625   0.625   0.5938 ]\n",
      "   [0.625   0.6406  0.5938 ]\n",
      "   ...\n",
      "   [0.25    0.2969  0.2812 ]\n",
      "   [0.2188  0.2812  0.2812 ]\n",
      "   [0.25    0.2812  0.2812 ]]\n",
      "\n",
      "  [[0.625   0.6406  0.5938 ]\n",
      "   [0.625   0.6406  0.5938 ]\n",
      "   [0.6562  0.6562  0.5938 ]\n",
      "   ...\n",
      "   [0.25    0.2969  0.3125 ]\n",
      "   [0.25    0.3125  0.3125 ]\n",
      "   [0.25    0.3125  0.3125 ]]\n",
      "\n",
      "  ...\n",
      "\n",
      "  [[0.125   0.125   0.125  ]\n",
      "   [0.1562  0.1406  0.1562 ]\n",
      "   [0.1562  0.1562  0.1562 ]\n",
      "   ...\n",
      "   [0.3438  0.4219  0.4375 ]\n",
      "   [0.3125  0.4062  0.4062 ]\n",
      "   [0.3125  0.4062  0.4062 ]]\n",
      "\n",
      "  [[0.09375 0.125   0.125  ]\n",
      "   [0.1562  0.1562  0.125  ]\n",
      "   [0.1562  0.1562  0.1562 ]\n",
      "   ...\n",
      "   [0.3125  0.4219  0.4375 ]\n",
      "   [0.3125  0.4219  0.4062 ]\n",
      "   [0.2812  0.3906  0.4062 ]]\n",
      "\n",
      "  [[0.125   0.125   0.09375]\n",
      "   [0.1562  0.1562  0.125  ]\n",
      "   [0.125   0.1562  0.1562 ]\n",
      "   ...\n",
      "   [0.3125  0.4219  0.4375 ]\n",
      "   [0.2812  0.4219  0.4062 ]\n",
      "   [0.2812  0.3906  0.4062 ]]]\n",
      "\n",
      "\n",
      " [[[0.7188  0.7188  0.6875 ]\n",
      "   [0.7188  0.7188  0.6875 ]\n",
      "   [0.6875  0.6875  0.6875 ]\n",
      "   ...\n",
      "   [0.5625  0.625   0.625  ]\n",
      "   [0.5938  0.6094  0.5938 ]\n",
      "   [0.3438  0.375   0.875  ]]\n",
      "\n",
      "  [[0.7188  0.7188  0.6875 ]\n",
      "   [0.7188  0.7188  0.6875 ]\n",
      "   [0.6875  0.703   0.6875 ]\n",
      "   ...\n",
      "   [0.5625  0.625   0.625  ]\n",
      "   [0.5938  0.625   0.5938 ]\n",
      "   [0.3438  0.375   0.875  ]]\n",
      "\n",
      "  [[0.7188  0.7188  0.7188 ]\n",
      "   [0.7188  0.7344  0.6875 ]\n",
      "   [0.6875  0.703   0.6875 ]\n",
      "   ...\n",
      "   [0.5625  0.6406  0.625  ]\n",
      "   [0.5938  0.6094  0.5938 ]\n",
      "   [0.375   0.3906  0.875  ]]\n",
      "\n",
      "  ...\n",
      "\n",
      "  [[0.7812  0.7812  0.75   ]\n",
      "   [0.7812  0.7656  0.75   ]\n",
      "   [0.7812  0.7656  0.75   ]\n",
      "   ...\n",
      "   [0.5938  0.6406  0.625  ]\n",
      "   [0.625   0.625   0.5938 ]\n",
      "   [0.375   0.4062  0.875  ]]\n",
      "\n",
      "  [[0.7812  0.797   0.75   ]\n",
      "   [0.7812  0.7656  0.75   ]\n",
      "   [0.7812  0.7812  0.75   ]\n",
      "   ...\n",
      "   [0.5938  0.6406  0.625  ]\n",
      "   [0.625   0.625   0.5938 ]\n",
      "   [0.375   0.3906  0.875  ]]\n",
      "\n",
      "  [[0.7812  0.797   0.75   ]\n",
      "   [0.7812  0.7812  0.75   ]\n",
      "   [0.7812  0.7812  0.75   ]\n",
      "   ...\n",
      "   [0.5625  0.6406  0.625  ]\n",
      "   [0.5938  0.625   0.5938 ]\n",
      "   [0.375   0.3906  0.875  ]]]\n",
      "\n",
      "\n",
      " ...\n",
      "\n",
      "\n",
      " [[[0.5625  0.547   0.5312 ]\n",
      "   [0.5625  0.547   0.5312 ]\n",
      "   [0.5625  0.5156  0.5312 ]\n",
      "   ...\n",
      "   [0.5625  0.5625  0.5    ]\n",
      "   [0.4688  0.4219  0.4062 ]\n",
      "   [0.375   0.3281  0.6562 ]]\n",
      "\n",
      "  [[0.5625  0.5625  0.5312 ]\n",
      "   [0.5625  0.5625  0.5312 ]\n",
      "   [0.5625  0.547   0.5312 ]\n",
      "   ...\n",
      "   [0.4688  0.4844  0.4375 ]\n",
      "   [0.4688  0.4219  0.375  ]\n",
      "   [0.375   0.3438  0.6562 ]]\n",
      "\n",
      "  [[0.5625  0.5625  0.5312 ]\n",
      "   [0.5625  0.5625  0.5312 ]\n",
      "   [0.5625  0.547   0.5625 ]\n",
      "   ...\n",
      "   [0.4688  0.4844  0.4062 ]\n",
      "   [0.4688  0.4375  0.375  ]\n",
      "   [0.3125  0.3281  0.625  ]]\n",
      "\n",
      "  ...\n",
      "\n",
      "  [[0.3125  0.3281  0.3125 ]\n",
      "   [0.3125  0.3125  0.3125 ]\n",
      "   [0.3438  0.3125  0.3125 ]\n",
      "   ...\n",
      "   [0.75    0.7812  0.6562 ]\n",
      "   [0.75    0.75    0.6875 ]\n",
      "   [0.4688  0.4688  0.875  ]]\n",
      "\n",
      "  [[0.3125  0.3281  0.3438 ]\n",
      "   [0.3125  0.3125  0.3438 ]\n",
      "   [0.3438  0.2969  0.3438 ]\n",
      "   ...\n",
      "   [0.7188  0.75    0.6562 ]\n",
      "   [0.75    0.703   0.6875 ]\n",
      "   [0.4688  0.4531  0.875  ]]\n",
      "\n",
      "  [[0.3438  0.3281  0.3438 ]\n",
      "   [0.3438  0.3125  0.3438 ]\n",
      "   [0.3438  0.2969  0.3438 ]\n",
      "   ...\n",
      "   [0.75    0.7656  0.6875 ]\n",
      "   [0.75    0.703   0.6875 ]\n",
      "   [0.4688  0.4688  0.875  ]]]\n",
      "\n",
      "\n",
      " [[[0.1562  0.2031  0.2188 ]\n",
      "   [0.1562  0.2188  0.25   ]\n",
      "   [0.1875  0.2188  0.25   ]\n",
      "   ...\n",
      "   [0.375   0.5156  0.5312 ]\n",
      "   [0.375   0.5     0.5312 ]\n",
      "   [0.375   0.4688  0.5    ]]\n",
      "\n",
      "  [[0.125   0.1875  0.1562 ]\n",
      "   [0.1562  0.1875  0.1875 ]\n",
      "   [0.1562  0.1875  0.1875 ]\n",
      "   ...\n",
      "   [0.375   0.5     0.4688 ]\n",
      "   [0.375   0.4844  0.4688 ]\n",
      "   [0.375   0.4531  0.4688 ]]\n",
      "\n",
      "  [[0.1562  0.2031  0.1562 ]\n",
      "   [0.1562  0.2031  0.1562 ]\n",
      "   [0.1875  0.2031  0.2188 ]\n",
      "   ...\n",
      "   [0.4062  0.5156  0.5    ]\n",
      "   [0.375   0.5     0.4688 ]\n",
      "   [0.375   0.4688  0.5    ]]\n",
      "\n",
      "  ...\n",
      "\n",
      "  [[0.125   0.1719  0.1562 ]\n",
      "   [0.125   0.1719  0.1562 ]\n",
      "   [0.1562  0.1719  0.1562 ]\n",
      "   ...\n",
      "   [0.375   0.5156  0.4688 ]\n",
      "   [0.3438  0.5     0.4688 ]\n",
      "   [0.375   0.4688  0.4688 ]]\n",
      "\n",
      "  [[0.125   0.1719  0.1562 ]\n",
      "   [0.125   0.1719  0.1562 ]\n",
      "   [0.1562  0.1719  0.1562 ]\n",
      "   ...\n",
      "   [0.375   0.5156  0.4688 ]\n",
      "   [0.375   0.5     0.4375 ]\n",
      "   [0.375   0.4688  0.4688 ]]\n",
      "\n",
      "  [[0.125   0.1719  0.1562 ]\n",
      "   [0.125   0.1719  0.1562 ]\n",
      "   [0.125   0.1719  0.1562 ]\n",
      "   ...\n",
      "   [0.375   0.5156  0.4688 ]\n",
      "   [0.375   0.5     0.4375 ]\n",
      "   [0.375   0.4688  0.4375 ]]]\n",
      "\n",
      "\n",
      " [[[0.6562  0.5938  0.5938 ]\n",
      "   [0.6562  0.5938  0.5938 ]\n",
      "   [0.625   0.5938  0.5938 ]\n",
      "   ...\n",
      "   [0.9375  0.9375  0.9375 ]\n",
      "   [0.9375  0.9375  0.9375 ]\n",
      "   [0.625   0.625   0.9375 ]]\n",
      "\n",
      "  [[0.6562  0.5938  0.5938 ]\n",
      "   [0.625   0.5938  0.5938 ]\n",
      "   [0.625   0.5938  0.5938 ]\n",
      "   ...\n",
      "   [0.9375  0.9375  0.9375 ]\n",
      "   [0.9375  0.9375  0.9375 ]\n",
      "   [0.625   0.625   0.9375 ]]\n",
      "\n",
      "  [[0.625   0.5938  0.5938 ]\n",
      "   [0.625   0.5938  0.5938 ]\n",
      "   [0.625   0.578   0.5938 ]\n",
      "   ...\n",
      "   [0.9375  0.9375  0.9375 ]\n",
      "   [0.9375  0.9375  0.9375 ]\n",
      "   [0.625   0.625   0.9375 ]]\n",
      "\n",
      "  ...\n",
      "\n",
      "  [[0.375   0.4375  0.4375 ]\n",
      "   [0.3438  0.4219  0.5625 ]\n",
      "   [0.3125  0.375   0.4062 ]\n",
      "   ...\n",
      "   [0.9375  0.9375  0.9375 ]\n",
      "   [0.9375  0.9375  0.9375 ]\n",
      "   [0.625   0.625   0.9375 ]]\n",
      "\n",
      "  [[0.3438  0.3906  0.4375 ]\n",
      "   [0.25    0.3125  0.4688 ]\n",
      "   [0.4375  0.578   0.4688 ]\n",
      "   ...\n",
      "   [0.9375  0.9375  0.9375 ]\n",
      "   [0.9375  0.9375  0.9375 ]\n",
      "   [0.625   0.625   0.9375 ]]\n",
      "\n",
      "  [[0.3438  0.3906  0.4688 ]\n",
      "   [0.1875  0.25    0.5    ]\n",
      "   [0.375   0.4375  0.375  ]\n",
      "   ...\n",
      "   [0.9375  0.9375  0.9375 ]\n",
      "   [0.9375  0.9375  0.9375 ]\n",
      "   [0.625   0.625   0.9375 ]]]]\n"
     ]
    }
   ],
   "source": [
    "mean = np.mean(train_data, axis = 0)\n",
    "std = np.std(train_data, axis = 0)\n",
    "\n",
    "#train_data = (train_data-mean) / std\n",
    "#validation_data = (validation_data-mean) / std\n",
    "\n",
    "print(train_data)"
   ]
  },
  {
   "cell_type": "code",
   "execution_count": 9,
   "metadata": {},
   "outputs": [
    {
     "data": {
      "image/png": "[encoded data removed]",
      "text/plain": [
       "<PIL.Image.Image image mode=RGB size=160x120 at 0x7F1E8167CF40>"
      ]
     },
     "execution_count": 9,
     "metadata": {},
     "output_type": "execute_result"
    }
   ],
   "source": [
    "keras.utils.array_to_img(train_data[0])"
   ]
  },
  {
   "cell_type": "code",
   "execution_count": 10,
   "metadata": {},
   "outputs": [
    {
     "data": {
      "text/plain": [
       "3"
      ]
     },
     "execution_count": 10,
     "metadata": {},
     "output_type": "execute_result"
    }
   ],
   "source": [
    "classes_txt = classes\n",
    "classes = len(le.classes_)\n",
    "classes"
   ]
  },
  {
   "cell_type": "code",
   "execution_count": 13,
   "metadata": {},
   "outputs": [
    {
     "data": {
      "text/plain": [
       "16"
      ]
     },
     "execution_count": 13,
     "metadata": {},
     "output_type": "execute_result"
    }
   ],
   "source": [
    "import gc\n",
    "gc.collect() # used to clear gpu memory "
   ]
  },
  {
   "cell_type": "code",
   "execution_count": 14,
   "metadata": {},
   "outputs": [
    {
     "data": {
      "image/png": "[encoded data removed]",
      "text/plain": [
       "<PIL.Image.Image image mode=RGB size=160x120 at 0x7F1E19EB3EB0>"
      ]
     },
     "execution_count": 14,
     "metadata": {},
     "output_type": "execute_result"
    }
   ],
   "source": [
    "keras.utils.array_to_img(validation_data[0])"
   ]
  },
  {
   "cell_type": "code",
   "execution_count": 15,
   "metadata": {},
   "outputs": [
    {
     "data": {
      "text/plain": [
       "(1, 120, 160, 3)"
      ]
     },
     "execution_count": 15,
     "metadata": {},
     "output_type": "execute_result"
    }
   ],
   "source": [
    "img_axis = validation_data[0][None,:,:,:]\n",
    "img_axis.shape"
   ]
  },
  {
   "cell_type": "markdown",
   "metadata": {},
   "source": [
    "# The FINAL model\n",
    "Below is the model which will be used in the Final product. Please try to increase the score."
   ]
  },
  {
   "cell_type": "code",
   "execution_count": 61,
   "metadata": {},
   "outputs": [
    {
     "name": "stdout",
     "output_type": "stream",
     "text": [
      "Model: \"sequential_4\"\n",
      "_________________________________________________________________\n",
      " Layer (type)                Output Shape              Param #   \n",
      "=================================================================\n",
      " conv2d_12 (Conv2D)          (None, 118, 158, 8)       224       \n",
      "                                                                 \n",
      " max_pooling2d_12 (MaxPoolin  (None, 39, 52, 8)        0         \n",
      " g2D)                                                            \n",
      "                                                                 \n",
      " conv2d_13 (Conv2D)          (None, 38, 51, 16)        528       \n",
      "                                                                 \n",
      " max_pooling2d_13 (MaxPoolin  (None, 12, 17, 16)       0         \n",
      " g2D)                                                            \n",
      "                                                                 \n",
      " conv2d_14 (Conv2D)          (None, 10, 15, 8)         1160      \n",
      "                                                                 \n",
      " max_pooling2d_14 (MaxPoolin  (None, 3, 5, 8)          0         \n",
      " g2D)                                                            \n",
      "                                                                 \n",
      " flatten_4 (Flatten)         (None, 120)               0         \n",
      "                                                                 \n",
      " dense_16 (Dense)            (None, 75)                9075      \n",
      "                                                                 \n",
      " dropout_3 (Dropout)         (None, 75)                0         \n",
      "                                                                 \n",
      " dense_17 (Dense)            (None, 35)                2660      \n",
      "                                                                 \n",
      " dense_18 (Dense)            (None, 15)                540       \n",
      "                                                                 \n",
      " dense_19 (Dense)            (None, 3)                 48        \n",
      "                                                                 \n",
      "=================================================================\n",
      "Total params: 14,235\n",
      "Trainable params: 14,235\n",
      "Non-trainable params: 0\n",
      "_________________________________________________________________\n"
     ]
    }
   ],
   "source": [
    "model_final = keras.models.Sequential([\n",
    "    keras.layers.Input(shape=train_data.shape[1:]),\n",
    "    #keras.layers.MaxPool2D((2,2), input_shape=train_data.shape[1:]),\n",
    "    #keras.layers.Dropout(0.5),\n",
    "    keras.layers.Conv2D(8, (3,3), activation=\"relu\"),\n",
    "    keras.layers.MaxPool2D((3,3)),\n",
    "    keras.layers.Conv2D(16, (2,2), activation=\"relu\"),\n",
    "    keras.layers.MaxPool2D((3,3)),\n",
    "    keras.layers.Conv2D(8, (3,3), activation=\"relu\"),\n",
    "    keras.layers.MaxPool2D((3,3)),\n",
    "    #keras.layers.Conv2D(32, (3,3), activation=\"relu\"),\n",
    "    #keras.layers.MaxPool2D((2,2)),\n",
    "    #keras.layers.Conv2D(32, (3,3), activation=\"relu\"),\n",
    "    #keras.layers.MaxPool2D((2,2)),\n",
    "    keras.layers.Flatten(),\n",
    "    keras.layers.Dense(75, activation=\"relu\"),\n",
    "    keras.layers.Dropout(0.2),\n",
    "\n",
    "    ## Dynamic\n",
    "    keras.layers.Dense(35, activation=\"relu\"),\n",
    "    keras.layers.Dense(15, activation=\"relu\"),\n",
    "    keras.layers.Dense(classes, activation=\"softmax\")\n",
    "    ])\n",
    "\n",
    "model_final.compile(optimizer=\"adam\", loss=\"sparse_categorical_crossentropy\", metrics=[\"accuracy\"])\n",
    "model_final.summary()\n",
    "\n",
    "# Fill in the number of dynamic layers in the model\n",
    "cnt_dynamic_layers = 3"
   ]
  },
  {
   "cell_type": "code",
   "execution_count": 62,
   "metadata": {},
   "outputs": [
    {
     "name": "stdout",
     "output_type": "stream",
     "text": [
      "Epoch 1/50\n",
      "3/3 [==============================] - 1s 110ms/step - loss: 1.0882 - accuracy: 0.4286 - val_loss: 1.0678 - val_accuracy: 0.4444\n",
      "Epoch 2/50\n",
      "3/3 [==============================] - 0s 57ms/step - loss: 1.0820 - accuracy: 0.3846 - val_loss: 1.0505 - val_accuracy: 0.3704\n",
      "Epoch 3/50\n",
      "3/3 [==============================] - 0s 56ms/step - loss: 1.0769 - accuracy: 0.3297 - val_loss: 1.0388 - val_accuracy: 0.3704\n",
      "Epoch 4/50\n",
      "3/3 [==============================] - 0s 56ms/step - loss: 1.0705 - accuracy: 0.4176 - val_loss: 1.0306 - val_accuracy: 0.4815\n",
      "Epoch 5/50\n",
      "3/3 [==============================] - 0s 55ms/step - loss: 1.0399 - accuracy: 0.4505 - val_loss: 1.0112 - val_accuracy: 0.5926\n",
      "Epoch 6/50\n",
      "3/3 [==============================] - 0s 56ms/step - loss: 1.0328 - accuracy: 0.5055 - val_loss: 0.9878 - val_accuracy: 0.7407\n",
      "Epoch 7/50\n",
      "3/3 [==============================] - 0s 56ms/step - loss: 1.0180 - accuracy: 0.5165 - val_loss: 0.9559 - val_accuracy: 0.7407\n",
      "Epoch 8/50\n",
      "3/3 [==============================] - 0s 55ms/step - loss: 0.9833 - accuracy: 0.5495 - val_loss: 0.9191 - val_accuracy: 0.7778\n",
      "Epoch 9/50\n",
      "3/3 [==============================] - 0s 65ms/step - loss: 0.9435 - accuracy: 0.6593 - val_loss: 0.8733 - val_accuracy: 0.8148\n",
      "Epoch 10/50\n",
      "3/3 [==============================] - 0s 59ms/step - loss: 0.9120 - accuracy: 0.6044 - val_loss: 0.8275 - val_accuracy: 0.8148\n",
      "Epoch 11/50\n",
      "3/3 [==============================] - 0s 54ms/step - loss: 0.8781 - accuracy: 0.7033 - val_loss: 0.7783 - val_accuracy: 0.8519\n",
      "Epoch 12/50\n",
      "3/3 [==============================] - 0s 56ms/step - loss: 0.8209 - accuracy: 0.8022 - val_loss: 0.7012 - val_accuracy: 0.8148\n",
      "Epoch 13/50\n",
      "3/3 [==============================] - 0s 57ms/step - loss: 0.8025 - accuracy: 0.6484 - val_loss: 0.6447 - val_accuracy: 0.8519\n",
      "Epoch 14/50\n",
      "3/3 [==============================] - 0s 62ms/step - loss: 0.7543 - accuracy: 0.7143 - val_loss: 0.5931 - val_accuracy: 0.9259\n",
      "Epoch 15/50\n",
      "3/3 [==============================] - 0s 57ms/step - loss: 0.6300 - accuracy: 0.8022 - val_loss: 0.5166 - val_accuracy: 0.9259\n",
      "Epoch 16/50\n",
      "3/3 [==============================] - 0s 58ms/step - loss: 0.5831 - accuracy: 0.8132 - val_loss: 0.4549 - val_accuracy: 0.9259\n",
      "Epoch 17/50\n",
      "3/3 [==============================] - 0s 63ms/step - loss: 0.5311 - accuracy: 0.8352 - val_loss: 0.3938 - val_accuracy: 0.8889\n",
      "Epoch 18/50\n",
      "3/3 [==============================] - 0s 57ms/step - loss: 0.4582 - accuracy: 0.8901 - val_loss: 0.3452 - val_accuracy: 0.8889\n",
      "Epoch 19/50\n",
      "3/3 [==============================] - 0s 58ms/step - loss: 0.3755 - accuracy: 0.9121 - val_loss: 0.2855 - val_accuracy: 0.8889\n",
      "Epoch 20/50\n",
      "3/3 [==============================] - 0s 58ms/step - loss: 0.2714 - accuracy: 0.9451 - val_loss: 0.2528 - val_accuracy: 0.8889\n",
      "Epoch 21/50\n",
      "3/3 [==============================] - 0s 62ms/step - loss: 0.2317 - accuracy: 0.9560 - val_loss: 0.2133 - val_accuracy: 0.8889\n",
      "Epoch 22/50\n",
      "3/3 [==============================] - 0s 55ms/step - loss: 0.2574 - accuracy: 0.9341 - val_loss: 0.1694 - val_accuracy: 0.9630\n",
      "Epoch 23/50\n",
      "3/3 [==============================] - 0s 55ms/step - loss: 0.2082 - accuracy: 0.9231 - val_loss: 0.1463 - val_accuracy: 0.9630\n",
      "Epoch 24/50\n",
      "3/3 [==============================] - 0s 57ms/step - loss: 0.1715 - accuracy: 0.9341 - val_loss: 0.1416 - val_accuracy: 0.9630\n",
      "Epoch 25/50\n",
      "3/3 [==============================] - 0s 59ms/step - loss: 0.1821 - accuracy: 0.9341 - val_loss: 0.1218 - val_accuracy: 0.9630\n",
      "Epoch 26/50\n",
      "3/3 [==============================] - 0s 59ms/step - loss: 0.1465 - accuracy: 0.9341 - val_loss: 0.1142 - val_accuracy: 0.9630\n",
      "Epoch 27/50\n",
      "3/3 [==============================] - 0s 57ms/step - loss: 0.0935 - accuracy: 0.9670 - val_loss: 0.2189 - val_accuracy: 0.9259\n",
      "Epoch 28/50\n",
      "3/3 [==============================] - 0s 60ms/step - loss: 0.1010 - accuracy: 0.9670 - val_loss: 0.1241 - val_accuracy: 0.9259\n",
      "Epoch 29/50\n",
      "3/3 [==============================] - 0s 61ms/step - loss: 0.1131 - accuracy: 0.9670 - val_loss: 0.0828 - val_accuracy: 1.0000\n",
      "Epoch 30/50\n",
      "3/3 [==============================] - 0s 60ms/step - loss: 0.0825 - accuracy: 0.9780 - val_loss: 0.0791 - val_accuracy: 0.9630\n",
      "Epoch 31/50\n",
      "3/3 [==============================] - 0s 58ms/step - loss: 0.0476 - accuracy: 0.9890 - val_loss: 0.0989 - val_accuracy: 0.9630\n",
      "Epoch 32/50\n",
      "3/3 [==============================] - 0s 57ms/step - loss: 0.0790 - accuracy: 0.9670 - val_loss: 0.0991 - val_accuracy: 0.9630\n",
      "Epoch 33/50\n",
      "3/3 [==============================] - 0s 60ms/step - loss: 0.0726 - accuracy: 0.9780 - val_loss: 0.0642 - val_accuracy: 0.9630\n",
      "Epoch 34/50\n",
      "3/3 [==============================] - 0s 58ms/step - loss: 0.0313 - accuracy: 1.0000 - val_loss: 0.0458 - val_accuracy: 1.0000\n",
      "Epoch 35/50\n",
      "3/3 [==============================] - 0s 57ms/step - loss: 0.1184 - accuracy: 0.9341 - val_loss: 0.0521 - val_accuracy: 0.9630\n",
      "Epoch 36/50\n",
      "3/3 [==============================] - 0s 63ms/step - loss: 0.0535 - accuracy: 0.9780 - val_loss: 0.0682 - val_accuracy: 0.9630\n",
      "Epoch 37/50\n",
      "3/3 [==============================] - 0s 60ms/step - loss: 0.0255 - accuracy: 1.0000 - val_loss: 0.0841 - val_accuracy: 0.9630\n",
      "Epoch 38/50\n",
      "3/3 [==============================] - 0s 56ms/step - loss: 0.0255 - accuracy: 1.0000 - val_loss: 0.0817 - val_accuracy: 0.9630\n",
      "Epoch 39/50\n",
      "3/3 [==============================] - 0s 62ms/step - loss: 0.0340 - accuracy: 0.9890 - val_loss: 0.0698 - val_accuracy: 0.9630\n",
      "Epoch 40/50\n",
      "3/3 [==============================] - 0s 62ms/step - loss: 0.0421 - accuracy: 1.0000 - val_loss: 0.0814 - val_accuracy: 0.9630\n",
      "Epoch 41/50\n",
      "3/3 [==============================] - 0s 57ms/step - loss: 0.0290 - accuracy: 1.0000 - val_loss: 0.1105 - val_accuracy: 0.9259\n",
      "Epoch 42/50\n",
      "3/3 [==============================] - 0s 57ms/step - loss: 0.0277 - accuracy: 1.0000 - val_loss: 0.0521 - val_accuracy: 0.9630\n",
      "Epoch 43/50\n",
      "3/3 [==============================] - 0s 57ms/step - loss: 0.0210 - accuracy: 1.0000 - val_loss: 0.0309 - val_accuracy: 1.0000\n",
      "Epoch 44/50\n",
      "3/3 [==============================] - 0s 59ms/step - loss: 0.0611 - accuracy: 0.9780 - val_loss: 0.0391 - val_accuracy: 0.9630\n",
      "Epoch 45/50\n",
      "3/3 [==============================] - 0s 58ms/step - loss: 0.0215 - accuracy: 1.0000 - val_loss: 0.1163 - val_accuracy: 0.9630\n",
      "Epoch 46/50\n",
      "3/3 [==============================] - 0s 55ms/step - loss: 0.0347 - accuracy: 0.9670 - val_loss: 0.1051 - val_accuracy: 0.9630\n",
      "Epoch 47/50\n",
      "3/3 [==============================] - 0s 55ms/step - loss: 0.0110 - accuracy: 1.0000 - val_loss: 0.0595 - val_accuracy: 0.9630\n",
      "Epoch 48/50\n",
      "3/3 [==============================] - 0s 59ms/step - loss: 0.0071 - accuracy: 1.0000 - val_loss: 0.0375 - val_accuracy: 0.9630\n",
      "Epoch 49/50\n",
      "3/3 [==============================] - 0s 71ms/step - loss: 0.0115 - accuracy: 1.0000 - val_loss: 0.0372 - val_accuracy: 0.9630\n",
      "Epoch 50/50\n",
      "3/3 [==============================] - 0s 59ms/step - loss: 0.0259 - accuracy: 0.9890 - val_loss: 0.0572 - val_accuracy: 0.9630\n"
     ]
    }
   ],
   "source": [
    "history_final = model_final.fit(train_data, train_labels, validation_data=(validation_data, validation_labels), batch_size=32, epochs=50)#, callbacks=[callback])"
   ]
  },
  {
   "cell_type": "code",
   "execution_count": 63,
   "metadata": {},
   "outputs": [
    {
     "data": {
      "text/plain": [
       "[<matplotlib.lines.Line2D at 0x7f1ddc132520>]"
      ]
     },
     "execution_count": 63,
     "metadata": {},
     "output_type": "execute_result"
    },
    {
     "data": {
      "image/png": "[encoded data removed]",
      "text/plain": [
       "<Figure size 1008x432 with 2 Axes>"
      ]
     },
     "metadata": {
      "needs_background": "light"
     },
     "output_type": "display_data"
    }
   ],
   "source": [
    "plt.figure(figsize=(14,6))\n",
    "plt.subplot(1,2,1)\n",
    "plt.title('Model Accuracy')\n",
    "plt.xlabel('Epochs')\n",
    "plt.ylabel('Accuracy')\n",
    "plt.plot(history_final.history['accuracy'], label='train')\n",
    "plt.plot(history_final.history['val_accuracy'], label='validation')\n",
    "plt.legend()\n",
    "\n",
    "plt.subplot(1,2,2)\n",
    "plt.title('Model loss')\n",
    "plt.ylabel('Loss')\n",
    "plt.xlabel('Epochs')\n",
    "plt.plot(history_final.history['loss'], label=\"train\")\n",
    "plt.plot(history_final.history['val_loss'], label=\"validation\")"
   ]
  },
  {
   "cell_type": "code",
   "execution_count": 64,
   "metadata": {},
   "outputs": [
    {
     "name": "stdout",
     "output_type": "stream",
     "text": [
      "INFO:tensorflow:Assets written to: model_final/assets\n"
     ]
    }
   ],
   "source": [
    "model_final.save(\"model_final\")"
   ]
  },
  {
   "cell_type": "code",
   "execution_count": 65,
   "metadata": {},
   "outputs": [
    {
     "name": "stdout",
     "output_type": "stream",
     "text": [
      "Test acc: 0.9166666666666666\n",
      "Is: Maria but was predicted as: Nikhil\n"
     ]
    },
    {
     "data": {
      "image/png": "[encoded data removed]",
      "text/plain": [
       "<Figure size 432x288 with 1 Axes>"
      ]
     },
     "metadata": {
      "needs_background": "light"
     },
     "output_type": "display_data"
    }
   ],
   "source": [
    "y_pred_class = model_final.predict(test_data)\n",
    "y_pred_class = np.argmax(np.array(y_pred_class), axis=1)\n",
    "\n",
    "y_diff = y_pred_class != test_labels\n",
    "print(\"Test acc:\", 1 - y_diff.sum() / len(y_diff))\n",
    "\n",
    "y_pred_txt = []\n",
    "y_true_txt = []\n",
    "\n",
    "for i in range(len(test_labels)):\n",
    "    y_pred_txt.append(classes_txt[y_pred_class[i]])\n",
    "    y_true_txt.append(classes_txt[test_labels[i]])\n",
    "\n",
    "for i in range(len(y_diff)):\n",
    "    if y_diff[i]:\n",
    "        plt.imshow(keras.utils.array_to_img(test_data[i]))\n",
    "        print(\"Is:\", y_true_txt[i], \"but was predicted as:\", y_pred_txt[i])"
   ]
  },
  {
   "cell_type": "markdown",
   "metadata": {},
   "source": [
    "# Fix CNN weights and train only DNN (dynamic weights)\n",
    "\n",
    "### CNN prediction"
   ]
  },
  {
   "cell_type": "code",
   "execution_count": 66,
   "metadata": {},
   "outputs": [
    {
     "name": "stdout",
     "output_type": "stream",
     "text": [
      "Model: \"model_9\"\n",
      "_________________________________________________________________\n",
      " Layer (type)                Output Shape              Param #   \n",
      "=================================================================\n",
      " input_10 (InputLayer)       [(None, 120, 160, 3)]     0         \n",
      "                                                                 \n",
      " conv2d_12 (Conv2D)          (None, 118, 158, 8)       224       \n",
      "                                                                 \n",
      " max_pooling2d_12 (MaxPoolin  (None, 39, 52, 8)        0         \n",
      " g2D)                                                            \n",
      "                                                                 \n",
      " conv2d_13 (Conv2D)          (None, 38, 51, 16)        528       \n",
      "                                                                 \n",
      " max_pooling2d_13 (MaxPoolin  (None, 12, 17, 16)       0         \n",
      " g2D)                                                            \n",
      "                                                                 \n",
      " conv2d_14 (Conv2D)          (None, 10, 15, 8)         1160      \n",
      "                                                                 \n",
      " max_pooling2d_14 (MaxPoolin  (None, 3, 5, 8)          0         \n",
      " g2D)                                                            \n",
      "                                                                 \n",
      " flatten_4 (Flatten)         (None, 120)               0         \n",
      "                                                                 \n",
      " dense_16 (Dense)            (None, 75)                9075      \n",
      "                                                                 \n",
      " dropout_3 (Dropout)         (None, 75)                0         \n",
      "                                                                 \n",
      "=================================================================\n",
      "Total params: 10,987\n",
      "Trainable params: 10,987\n",
      "Non-trainable params: 0\n",
      "_________________________________________________________________\n"
     ]
    }
   ],
   "source": [
    "model = keras.models.load_model('model_final')\n",
    "\n",
    "# cnt_dynamic_layers is defined above\n",
    "# remove last \"cnt_dynamic_layers\" layers\n",
    "\n",
    "x = model.layers[-(cnt_dynamic_layers + 1)].output \n",
    "\n",
    "model = keras.Model(inputs = model.input, outputs = x)\n",
    "model.summary()\n",
    "\n",
    "# output contains input vector to DNN\n",
    "cnn_pred_train = model.predict(train_data) \n",
    "cnn_pred_validation = model.predict(validation_data) # need to transform validation to input vector for DNN\n",
    "cnn_pred_test = model.predict(test_data) # perhaps merge with validation for Arduino"
   ]
  },
  {
   "cell_type": "markdown",
   "metadata": {},
   "source": [
    "### Save predictions to .h-file"
   ]
  },
  {
   "cell_type": "code",
   "execution_count": 67,
   "metadata": {},
   "outputs": [],
   "source": [
    "# Save output from pretrained model (CNN) to .h, is also used below\n",
    "def append_photo_data(data, data_cnt, type):\n",
    "    lines.append(\"const float cnn_\" + type + \"_data[\" + str(data_cnt) + \"][\" + str(first_layer_input_cnt) + \"] = {\")\n",
    "    frames_str = []\n",
    "    for frame in data:\n",
    "        frame_values = [str(i) for i in frame]\n",
    "        frames_str.append(\"  {\" + \", \".join(frame_values) + \"}\")\n",
    "    lines.append(\",\\n\".join(frames_str))\n",
    "    lines.append(\"};\")\n",
    "    lines.append(\"\")\n",
    "\n",
    "def append_label_data(data, data_cnt, type):\n",
    "    lines.append(\"const int \" + type + \"_labels[\" + str(data_cnt) + \"] = {\")\n",
    "    labels_str = [str(i) for i in data]\n",
    "    lines.append(\"  \" + \", \".join(labels_str))\n",
    "    lines.append(\"};\")\n",
    "    lines.append(\"\")\n",
    "\n",
    "def append_class_data(data, data_cnt):\n",
    "    lines.append(\"const char* classes[\" + str(data_cnt) + \"] = {\")\n",
    "    classes_str = ['\"' + str(i) + '\"' for i in data]\n",
    "    lines.append(\"  \" + \", \".join(classes_str))\n",
    "    lines.append(\"};\")\n",
    "    lines.append(\"\")\n",
    "\n",
    "PRINT, SAVE = 0, 1\n",
    "PRINT_OR_SAVE = SAVE\n",
    "\n",
    "arduino_validation_data = np.concatenate((cnn_pred_validation, cnn_pred_test))\n",
    "arduino_validation_labels = np.concatenate((validation_labels, test_labels))\n",
    "\n",
    "first_layer_input_cnt = len(cnn_pred_train[0])\n",
    "train_data_cnt = len(train_labels)\n",
    "validation_data_cnt = len(arduino_validation_labels)\n",
    "classes_cnt = classes\n",
    "\n",
    "if PRINT_OR_SAVE == PRINT:\n",
    "    print(\"Label translations:\", classes_txt)\n",
    "    print(\"Number of inputs for first DNN layer:\", first_layer_input_cnt)\n",
    "    print(\"Sample size train data:\", train_data_cnt)\n",
    "    print(\"Sample size validation data:\", validation_data_cnt)\n",
    "    print(\"Number of classes:\", classes_cnt)\n",
    "\n",
    "    for i in range(train_data_cnt):\n",
    "        print(\"Training Photo:\", str(i), \"has label:\", str(train_labels[i]))\n",
    "        print(cnn_pred_train[i])\n",
    "\n",
    "    for i in range(validation_data_cnt):\n",
    "        print(\"Validation Photo:\", str(i), \"has label:\", str(arduino_validation_labels[i]))\n",
    "        print(arduino_validation_data[i])\n",
    "\n",
    "elif PRINT_OR_SAVE == SAVE:\n",
    "    lines = []\n",
    "    lines.append(\"// Data file containing output from CNN as input to DNN\")\n",
    "    lines.append(\"// This file was automatically generated using 'tensorflow_main.ipynb'\")\n",
    "    lines.append(\"const int first_layer_input_cnt = \" + str(first_layer_input_cnt) + \";\")\n",
    "    lines.append(\"const int train_data_cnt = \" + str(train_data_cnt) + \";\")\n",
    "    lines.append(\"const int validation_data_cnt = \" + str(validation_data_cnt) + \";\")\n",
    "    lines.append(\"const int classes_cnt = \" + str(classes_cnt) + \";\")\n",
    "    lines.append(\"\")\n",
    "\n",
    "    append_class_data(classes_txt, classes_cnt)\n",
    "\n",
    "    # Training labels\n",
    "    append_label_data(train_labels, train_data_cnt, \"train\")\n",
    "\n",
    "    # Validation labels\n",
    "    append_label_data(arduino_validation_labels, validation_data_cnt, \"validation\")\n",
    "\n",
    "    # Training data\n",
    "    append_photo_data(cnn_pred_train, train_data_cnt, \"train\")\n",
    "\n",
    "    # Validation data\n",
    "    append_photo_data(arduino_validation_data, validation_data_cnt, \"validation\")\n",
    "\n",
    "    f = open(\"cnn_data.h\", \"w\")\n",
    "    f.write(\"\\n\".join(lines))\n",
    "    f.close()\n",
    "\n",
    "    # Chunking: for row in [frame[i:i+12] for i in range(0, len(frame), 12)]:\n"
   ]
  },
  {
   "cell_type": "markdown",
   "metadata": {},
   "source": [
    "### Python simulation of DNN learning\n",
    "We now train only the DNN part with the same structure (although zero the weights) as the DNN part above. The CNN part is frozen, i.e. using the predictions for the DNN input layer obtained above.\n",
    "#### Create DNN model"
   ]
  },
  {
   "cell_type": "code",
   "execution_count": 74,
   "metadata": {},
   "outputs": [
    {
     "name": "stdout",
     "output_type": "stream",
     "text": [
      "Model: \"model_11\"\n",
      "_________________________________________________________________\n",
      " Layer (type)                Output Shape              Param #   \n",
      "=================================================================\n",
      " input_12 (InputLayer)       [(None, 75)]              0         \n",
      "                                                                 \n",
      " dense_17 (Dense)            (None, 35)                2660      \n",
      "                                                                 \n",
      " dense_18 (Dense)            (None, 15)                540       \n",
      "                                                                 \n",
      " dense_19 (Dense)            (None, 3)                 48        \n",
      "                                                                 \n",
      "=================================================================\n",
      "Total params: 3,248\n",
      "Trainable params: 3,248\n",
      "Non-trainable params: 0\n",
      "_________________________________________________________________\n"
     ]
    }
   ],
   "source": [
    "# Creating the DNN model, by extracting part from above\n",
    "model_final_copy = tf.keras.models.clone_model(model_final)\n",
    "\n",
    "in_layer = model_final_copy.layers[-(cnt_dynamic_layers + 1)].output\n",
    "out_layer = model_final_copy.layers[-1].output \n",
    "\n",
    "dnn_model = keras.Model(inputs = in_layer, outputs = out_layer)\n",
    "dnn_model.summary()\n",
    "dnn_model.compile(loss=\"sparse_categorical_crossentropy\", metrics=[\"accuracy\"])\n",
    "\n",
    "#dnn_pred_train = dnn_model.predict(cnn_pred_train)\n",
    "#print(dnn_pred_train)"
   ]
  },
  {
   "cell_type": "markdown",
   "metadata": {},
   "source": [
    "### Evauluate the non-trained DNN model"
   ]
  },
  {
   "cell_type": "code",
   "execution_count": 75,
   "metadata": {},
   "outputs": [
    {
     "name": "stdout",
     "output_type": "stream",
     "text": [
      "Train acc: 0.3846153846153846\n",
      "Validation acc: 0.37037037037037035\n",
      "Test acc: 0.33333333333333337\n"
     ]
    }
   ],
   "source": [
    "def print_dnn_accuracy(input, labels, name, verbose=False):\n",
    "    y_pred_class = dnn_model.predict(input)\n",
    "    y_pred_class = np.argmax(np.array(y_pred_class), axis=1)\n",
    "\n",
    "    y_diff = y_pred_class != labels\n",
    "    print(name, \"acc:\", 1 - y_diff.sum() / len(y_diff))\n",
    "\n",
    "    y_pred_txt = []\n",
    "    y_true_txt = []\n",
    "\n",
    "    for i in range(len(input)):\n",
    "        y_pred_txt.append(classes_txt[y_pred_class[i]])\n",
    "        y_true_txt.append(classes_txt[labels[i]])\n",
    "\n",
    "    for i in range(len(y_diff)):\n",
    "        if y_diff[i] and verbose:\n",
    "            #plt.imshow(keras.utils.array_to_img(input[i]))\n",
    "            print(\" Is:\", y_true_txt[i], \"but was predicted as:\", y_pred_txt[i])\n",
    "\n",
    "print_dnn_accuracy(cnn_pred_train, train_labels, \"Train\")\n",
    "print_dnn_accuracy(cnn_pred_validation, validation_labels, \"Validation\")\n",
    "print_dnn_accuracy(cnn_pred_test, test_labels, \"Test\")"
   ]
  },
  {
   "cell_type": "markdown",
   "metadata": {},
   "source": [
    "### Train DNN part\n",
    "Now use train_data to only train DNN."
   ]
  },
  {
   "cell_type": "code",
   "execution_count": 76,
   "metadata": {},
   "outputs": [
    {
     "name": "stdout",
     "output_type": "stream",
     "text": [
      "Epoch 1/10\n",
      "19/19 [==============================] - 0s 6ms/step - loss: 1.0639 - accuracy: 0.6264 - val_loss: 0.3340 - val_accuracy: 0.9259\n",
      "Epoch 2/10\n",
      "19/19 [==============================] - 0s 2ms/step - loss: 0.2878 - accuracy: 0.9231 - val_loss: 0.2019 - val_accuracy: 0.9630\n",
      "Epoch 3/10\n",
      "19/19 [==============================] - 0s 2ms/step - loss: 0.1491 - accuracy: 0.9890 - val_loss: 0.1362 - val_accuracy: 0.9630\n",
      "Epoch 4/10\n",
      "19/19 [==============================] - 0s 2ms/step - loss: 0.0883 - accuracy: 0.9890 - val_loss: 0.1233 - val_accuracy: 0.9630\n",
      "Epoch 5/10\n",
      "19/19 [==============================] - 0s 2ms/step - loss: 0.0530 - accuracy: 1.0000 - val_loss: 0.0995 - val_accuracy: 0.9259\n",
      "Epoch 6/10\n",
      "19/19 [==============================] - 0s 2ms/step - loss: 0.0399 - accuracy: 0.9890 - val_loss: 0.0979 - val_accuracy: 0.9630\n",
      "Epoch 7/10\n",
      "19/19 [==============================] - 0s 2ms/step - loss: 0.0208 - accuracy: 1.0000 - val_loss: 0.1191 - val_accuracy: 0.9630\n",
      "Epoch 8/10\n",
      "19/19 [==============================] - 0s 2ms/step - loss: 0.0177 - accuracy: 1.0000 - val_loss: 0.0784 - val_accuracy: 0.9630\n",
      "Epoch 9/10\n",
      "19/19 [==============================] - 0s 2ms/step - loss: 0.0120 - accuracy: 1.0000 - val_loss: 0.1026 - val_accuracy: 0.9630\n",
      "Epoch 10/10\n",
      "19/19 [==============================] - 0s 2ms/step - loss: 0.0094 - accuracy: 1.0000 - val_loss: 0.0969 - val_accuracy: 0.9630\n"
     ]
    }
   ],
   "source": [
    "history_dnn = dnn_model.fit(cnn_pred_train, train_labels, validation_data=(cnn_pred_validation, validation_labels), batch_size=5, epochs=10)"
   ]
  },
  {
   "cell_type": "markdown",
   "metadata": {},
   "source": [
    "### Evaluation trained DNN model\n",
    "Evaluation, excatly the same as above, but DNN model is now trained."
   ]
  },
  {
   "cell_type": "code",
   "execution_count": 77,
   "metadata": {},
   "outputs": [
    {
     "name": "stdout",
     "output_type": "stream",
     "text": [
      "Train acc: 1.0\n",
      "Validation acc: 0.962962962962963\n",
      " Is: Simon but was predicted as: Maria\n",
      "Test acc: 0.9166666666666666\n",
      " Is: Maria but was predicted as: Nikhil\n"
     ]
    }
   ],
   "source": [
    "print_dnn_accuracy(cnn_pred_train, train_labels, \"Train\", True)\n",
    "print_dnn_accuracy(cnn_pred_validation, validation_labels, \"Validation\", True)\n",
    "print_dnn_accuracy(cnn_pred_test, test_labels, \"Test\", True)"
   ]
  }
 ],
 "metadata": {
  "kernelspec": {
   "display_name": "Python 3.8.8 ('base')",
   "language": "python",
   "name": "python3"
  },
  "language_info": {
   "codemirror_mode": {
    "name": "ipython",
    "version": 3
   },
   "file_extension": ".py",
   "mimetype": "text/x-python",
   "name": "python",
   "nbconvert_exporter": "python",
   "pygments_lexer": "ipython3",
   "version": "3.8.8"
  },
  "orig_nbformat": 4,
  "vscode": {
   "interpreter": {
    "hash": "d0088029b3bf0883d79fb316fdd34e9e1ba6cd66820b181ce01ee6eba35b10f3"
   }
  }
 },
 "nbformat": 4,
 "nbformat_minor": 2
}
