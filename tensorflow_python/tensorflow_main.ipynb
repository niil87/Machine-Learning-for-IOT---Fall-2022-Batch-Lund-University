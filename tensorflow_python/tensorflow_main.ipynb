{
 "cells": [
  {
   "cell_type": "markdown",
   "metadata": {},
   "source": [
    "## Authors of the document\n",
    "### This file was mainly written by Simon Erlandsson, with Nikhil Challa as team member.\n",
    "\n",
    "Some code in the beginning of the file was re-used from before the group split,\n",
    "their respective authors are listed in the Git README."
   ]
  },
  {
   "cell_type": "code",
   "execution_count": 64,
   "metadata": {},
   "outputs": [],
   "source": [
    "from tensorflow import keras\n",
    "import tensorflow as tf\n",
    "import numpy as np\n",
    "from pathlib import Path\n",
    "from matplotlib import pyplot as plt\n",
    "from sklearn.preprocessing import LabelEncoder\n",
    "from sklearn import model_selection\n",
    "from sklearn.utils import shuffle"
   ]
  },
  {
   "cell_type": "code",
   "execution_count": 3,
   "metadata": {},
   "outputs": [],
   "source": [
    "path = Path(\"../datasets/Images_Transformed_565_160_120\")\n",
    "with open(path/'data.npy', 'rb') as d, open(path/\"labels.npy\", \"rb\") as l, open(path/\"classes.npy\", \"rb\") as c:\n",
    "    data = np.load(d)\n",
    "    labels = np.load(l)\n",
    "    classes = np.load(c)\n",
    "le = LabelEncoder()\n",
    "le.classes_ = classes"
   ]
  },
  {
   "cell_type": "code",
   "execution_count": 4,
   "metadata": {},
   "outputs": [
    {
     "name": "stdout",
     "output_type": "stream",
     "text": [
      "(130,)\n",
      "(130, 120, 160, 3)\n",
      "['Maria' 'Nikhil' 'Simon']\n"
     ]
    }
   ],
   "source": [
    "print(labels.shape)\n",
    "print(data.shape)\n",
    "print(classes)"
   ]
  },
  {
   "cell_type": "code",
   "execution_count": 5,
   "metadata": {},
   "outputs": [
    {
     "name": "stdout",
     "output_type": "stream",
     "text": [
      "Counter({2: 49, 0: 45, 1: 36})\n"
     ]
    }
   ],
   "source": [
    "from collections import Counter\n",
    "print(Counter(labels))"
   ]
  },
  {
   "cell_type": "code",
   "execution_count": 6,
   "metadata": {},
   "outputs": [],
   "source": [
    "# Helper functions\n",
    "def _565_channels_normalize(data: np.ndarray) -> np.ndarray:\n",
    "    width, height, chan = data.shape\n",
    "    channels = np.zeros(shape=(width, height, chan), dtype=np.float16)\n",
    "\n",
    "    for x in range(width):\n",
    "        for y in range(height):\n",
    "            channels[x, y, 0] = data[x, y, 0] / 32\n",
    "            channels[x, y, 1] = data[x, y, 1] / 64\n",
    "            channels[x, y, 2] = data[x, y, 2] / 32\n",
    "\n",
    "    return channels\n",
    "\n",
    "# If we want to reverse the normalization -> 888\n",
    "def normalized_to_888(data: np.ndarray) -> np.ndarray:\n",
    "    width, height, chan = data.shape\n",
    "    channels = np.zeros(shape=(width, height, chan), dtype=np.uint16)\n",
    "\n",
    "    for x in range(width):\n",
    "        for y in range(height):\n",
    "            channels[x, y, 0] = data[x, y, 0] * 255\n",
    "            channels[x, y, 1] = data[x, y, 1] * 255\n",
    "            channels[x, y, 2] = data[x, y, 2] * 255\n",
    "\n",
    "    return channels"
   ]
  },
  {
   "cell_type": "code",
   "execution_count": 7,
   "metadata": {},
   "outputs": [],
   "source": [
    "# Normalize 565 channels\n",
    "unscaled_data = data\n",
    "\n",
    "data = []\n",
    "for img in unscaled_data:\n",
    "    data.append(_565_channels_normalize(img))\n",
    "data = np.array(data)\n"
   ]
  },
  {
   "cell_type": "code",
   "execution_count": 8,
   "metadata": {},
   "outputs": [
    {
     "name": "stdout",
     "output_type": "stream",
     "text": [
      "train data shape: (91, 120, 160, 3)\n",
      "validation data shape: (27, 120, 160, 3)\n",
      "train labels shape: (91,)\n",
      "validation labels shape: (27,)\n",
      "test labels shape: (12, 120, 160, 3)\n",
      "test labels shape: (12,)\n"
     ]
    }
   ],
   "source": [
    "train_data, validation_data, train_labels, validation_labels = model_selection.train_test_split(data,labels, random_state=50,test_size=0.3)\n",
    "validation_data, test_data, validation_labels, test_labels = model_selection.train_test_split(validation_data,validation_labels, random_state=50,test_size=0.3)\n",
    "\n",
    "print('train data shape:',np.shape(train_data))\n",
    "print('validation data shape:',np.shape(validation_data))\n",
    "print('train labels shape:',np.shape(train_labels))\n",
    "print('validation labels shape:',np.shape(validation_labels))\n",
    "print('test labels shape:',np.shape(test_data))\n",
    "print('test labels shape:',np.shape(test_labels))"
   ]
  },
  {
   "cell_type": "code",
   "execution_count": 9,
   "metadata": {},
   "outputs": [
    {
     "name": "stdout",
     "output_type": "stream",
     "text": [
      "[[[[0.8438  0.8594  0.8125 ]\n",
      "   [0.875   0.8594  0.8125 ]\n",
      "   [0.875   0.875   0.8125 ]\n",
      "   ...\n",
      "   [0.8438  0.797   0.75   ]\n",
      "   [0.8125  0.797   0.7188 ]\n",
      "   [0.8438  0.8125  0.7188 ]]\n",
      "\n",
      "  [[0.8438  0.828   0.6875 ]\n",
      "   [0.875   0.8438  0.7188 ]\n",
      "   [0.9062  0.875   0.7188 ]\n",
      "   ...\n",
      "   [0.8125  0.7656  0.625  ]\n",
      "   [0.7812  0.7656  0.625  ]\n",
      "   [0.8125  0.797   0.6562 ]]\n",
      "\n",
      "  [[0.8438  0.8438  0.7188 ]\n",
      "   [0.875   0.8594  0.7188 ]\n",
      "   [0.875   0.875   0.75   ]\n",
      "   ...\n",
      "   [0.8125  0.7812  0.6562 ]\n",
      "   [0.8125  0.7656  0.6562 ]\n",
      "   [0.8125  0.8125  0.6562 ]]\n",
      "\n",
      "  ...\n",
      "\n",
      "  [[0.2188  0.3281  0.2812 ]\n",
      "   [0.25    0.3438  0.3125 ]\n",
      "   [0.2812  0.3594  0.3125 ]\n",
      "   ...\n",
      "   [0.9062  0.8594  0.7188 ]\n",
      "   [0.875   0.828   0.6875 ]\n",
      "   [0.875   0.8438  0.6875 ]]\n",
      "\n",
      "  [[0.2188  0.2969  0.2812 ]\n",
      "   [0.25    0.3438  0.3125 ]\n",
      "   [0.2812  0.3594  0.3125 ]\n",
      "   ...\n",
      "   [0.875   0.8594  0.7188 ]\n",
      "   [0.875   0.828   0.6875 ]\n",
      "   [0.875   0.8594  0.6875 ]]\n",
      "\n",
      "  [[0.2188  0.3125  0.2812 ]\n",
      "   [0.2812  0.3594  0.3125 ]\n",
      "   [0.2812  0.375   0.3125 ]\n",
      "   ...\n",
      "   [0.9062  0.875   0.7188 ]\n",
      "   [0.875   0.8125  0.6875 ]\n",
      "   [0.875   0.8594  0.6875 ]]]\n",
      "\n",
      "\n",
      " [[[0.6562  0.6406  0.6875 ]\n",
      "   [0.6562  0.6406  0.6875 ]\n",
      "   [0.6562  0.6562  0.6875 ]\n",
      "   ...\n",
      "   [0.25    0.2969  0.3438 ]\n",
      "   [0.25    0.3125  0.3438 ]\n",
      "   [0.25    0.2969  0.3438 ]]\n",
      "\n",
      "  [[0.625   0.625   0.5625 ]\n",
      "   [0.625   0.625   0.5938 ]\n",
      "   [0.625   0.6406  0.5938 ]\n",
      "   ...\n",
      "   [0.25    0.2969  0.2812 ]\n",
      "   [0.2188  0.2812  0.2812 ]\n",
      "   [0.25    0.2812  0.2812 ]]\n",
      "\n",
      "  [[0.625   0.6406  0.5938 ]\n",
      "   [0.625   0.6406  0.5938 ]\n",
      "   [0.6562  0.6562  0.5938 ]\n",
      "   ...\n",
      "   [0.25    0.2969  0.3125 ]\n",
      "   [0.25    0.3125  0.3125 ]\n",
      "   [0.25    0.3125  0.3125 ]]\n",
      "\n",
      "  ...\n",
      "\n",
      "  [[0.125   0.125   0.125  ]\n",
      "   [0.1562  0.1406  0.1562 ]\n",
      "   [0.1562  0.1562  0.1562 ]\n",
      "   ...\n",
      "   [0.3438  0.4219  0.4375 ]\n",
      "   [0.3125  0.4062  0.4062 ]\n",
      "   [0.3125  0.4062  0.4062 ]]\n",
      "\n",
      "  [[0.09375 0.125   0.125  ]\n",
      "   [0.1562  0.1562  0.125  ]\n",
      "   [0.1562  0.1562  0.1562 ]\n",
      "   ...\n",
      "   [0.3125  0.4219  0.4375 ]\n",
      "   [0.3125  0.4219  0.4062 ]\n",
      "   [0.2812  0.3906  0.4062 ]]\n",
      "\n",
      "  [[0.125   0.125   0.09375]\n",
      "   [0.1562  0.1562  0.125  ]\n",
      "   [0.125   0.1562  0.1562 ]\n",
      "   ...\n",
      "   [0.3125  0.4219  0.4375 ]\n",
      "   [0.2812  0.4219  0.4062 ]\n",
      "   [0.2812  0.3906  0.4062 ]]]\n",
      "\n",
      "\n",
      " [[[0.7188  0.7188  0.6875 ]\n",
      "   [0.7188  0.7188  0.6875 ]\n",
      "   [0.6875  0.6875  0.6875 ]\n",
      "   ...\n",
      "   [0.5625  0.625   0.625  ]\n",
      "   [0.5938  0.6094  0.5938 ]\n",
      "   [0.3438  0.375   0.875  ]]\n",
      "\n",
      "  [[0.7188  0.7188  0.6875 ]\n",
      "   [0.7188  0.7188  0.6875 ]\n",
      "   [0.6875  0.703   0.6875 ]\n",
      "   ...\n",
      "   [0.5625  0.625   0.625  ]\n",
      "   [0.5938  0.625   0.5938 ]\n",
      "   [0.3438  0.375   0.875  ]]\n",
      "\n",
      "  [[0.7188  0.7188  0.7188 ]\n",
      "   [0.7188  0.7344  0.6875 ]\n",
      "   [0.6875  0.703   0.6875 ]\n",
      "   ...\n",
      "   [0.5625  0.6406  0.625  ]\n",
      "   [0.5938  0.6094  0.5938 ]\n",
      "   [0.375   0.3906  0.875  ]]\n",
      "\n",
      "  ...\n",
      "\n",
      "  [[0.7812  0.7812  0.75   ]\n",
      "   [0.7812  0.7656  0.75   ]\n",
      "   [0.7812  0.7656  0.75   ]\n",
      "   ...\n",
      "   [0.5938  0.6406  0.625  ]\n",
      "   [0.625   0.625   0.5938 ]\n",
      "   [0.375   0.4062  0.875  ]]\n",
      "\n",
      "  [[0.7812  0.797   0.75   ]\n",
      "   [0.7812  0.7656  0.75   ]\n",
      "   [0.7812  0.7812  0.75   ]\n",
      "   ...\n",
      "   [0.5938  0.6406  0.625  ]\n",
      "   [0.625   0.625   0.5938 ]\n",
      "   [0.375   0.3906  0.875  ]]\n",
      "\n",
      "  [[0.7812  0.797   0.75   ]\n",
      "   [0.7812  0.7812  0.75   ]\n",
      "   [0.7812  0.7812  0.75   ]\n",
      "   ...\n",
      "   [0.5625  0.6406  0.625  ]\n",
      "   [0.5938  0.625   0.5938 ]\n",
      "   [0.375   0.3906  0.875  ]]]\n",
      "\n",
      "\n",
      " ...\n",
      "\n",
      "\n",
      " [[[0.5625  0.547   0.5312 ]\n",
      "   [0.5625  0.547   0.5312 ]\n",
      "   [0.5625  0.5156  0.5312 ]\n",
      "   ...\n",
      "   [0.5625  0.5625  0.5    ]\n",
      "   [0.4688  0.4219  0.4062 ]\n",
      "   [0.375   0.3281  0.6562 ]]\n",
      "\n",
      "  [[0.5625  0.5625  0.5312 ]\n",
      "   [0.5625  0.5625  0.5312 ]\n",
      "   [0.5625  0.547   0.5312 ]\n",
      "   ...\n",
      "   [0.4688  0.4844  0.4375 ]\n",
      "   [0.4688  0.4219  0.375  ]\n",
      "   [0.375   0.3438  0.6562 ]]\n",
      "\n",
      "  [[0.5625  0.5625  0.5312 ]\n",
      "   [0.5625  0.5625  0.5312 ]\n",
      "   [0.5625  0.547   0.5625 ]\n",
      "   ...\n",
      "   [0.4688  0.4844  0.4062 ]\n",
      "   [0.4688  0.4375  0.375  ]\n",
      "   [0.3125  0.3281  0.625  ]]\n",
      "\n",
      "  ...\n",
      "\n",
      "  [[0.3125  0.3281  0.3125 ]\n",
      "   [0.3125  0.3125  0.3125 ]\n",
      "   [0.3438  0.3125  0.3125 ]\n",
      "   ...\n",
      "   [0.75    0.7812  0.6562 ]\n",
      "   [0.75    0.75    0.6875 ]\n",
      "   [0.4688  0.4688  0.875  ]]\n",
      "\n",
      "  [[0.3125  0.3281  0.3438 ]\n",
      "   [0.3125  0.3125  0.3438 ]\n",
      "   [0.3438  0.2969  0.3438 ]\n",
      "   ...\n",
      "   [0.7188  0.75    0.6562 ]\n",
      "   [0.75    0.703   0.6875 ]\n",
      "   [0.4688  0.4531  0.875  ]]\n",
      "\n",
      "  [[0.3438  0.3281  0.3438 ]\n",
      "   [0.3438  0.3125  0.3438 ]\n",
      "   [0.3438  0.2969  0.3438 ]\n",
      "   ...\n",
      "   [0.75    0.7656  0.6875 ]\n",
      "   [0.75    0.703   0.6875 ]\n",
      "   [0.4688  0.4688  0.875  ]]]\n",
      "\n",
      "\n",
      " [[[0.1562  0.2031  0.2188 ]\n",
      "   [0.1562  0.2188  0.25   ]\n",
      "   [0.1875  0.2188  0.25   ]\n",
      "   ...\n",
      "   [0.375   0.5156  0.5312 ]\n",
      "   [0.375   0.5     0.5312 ]\n",
      "   [0.375   0.4688  0.5    ]]\n",
      "\n",
      "  [[0.125   0.1875  0.1562 ]\n",
      "   [0.1562  0.1875  0.1875 ]\n",
      "   [0.1562  0.1875  0.1875 ]\n",
      "   ...\n",
      "   [0.375   0.5     0.4688 ]\n",
      "   [0.375   0.4844  0.4688 ]\n",
      "   [0.375   0.4531  0.4688 ]]\n",
      "\n",
      "  [[0.1562  0.2031  0.1562 ]\n",
      "   [0.1562  0.2031  0.1562 ]\n",
      "   [0.1875  0.2031  0.2188 ]\n",
      "   ...\n",
      "   [0.4062  0.5156  0.5    ]\n",
      "   [0.375   0.5     0.4688 ]\n",
      "   [0.375   0.4688  0.5    ]]\n",
      "\n",
      "  ...\n",
      "\n",
      "  [[0.125   0.1719  0.1562 ]\n",
      "   [0.125   0.1719  0.1562 ]\n",
      "   [0.1562  0.1719  0.1562 ]\n",
      "   ...\n",
      "   [0.375   0.5156  0.4688 ]\n",
      "   [0.3438  0.5     0.4688 ]\n",
      "   [0.375   0.4688  0.4688 ]]\n",
      "\n",
      "  [[0.125   0.1719  0.1562 ]\n",
      "   [0.125   0.1719  0.1562 ]\n",
      "   [0.1562  0.1719  0.1562 ]\n",
      "   ...\n",
      "   [0.375   0.5156  0.4688 ]\n",
      "   [0.375   0.5     0.4375 ]\n",
      "   [0.375   0.4688  0.4688 ]]\n",
      "\n",
      "  [[0.125   0.1719  0.1562 ]\n",
      "   [0.125   0.1719  0.1562 ]\n",
      "   [0.125   0.1719  0.1562 ]\n",
      "   ...\n",
      "   [0.375   0.5156  0.4688 ]\n",
      "   [0.375   0.5     0.4375 ]\n",
      "   [0.375   0.4688  0.4375 ]]]\n",
      "\n",
      "\n",
      " [[[0.6562  0.5938  0.5938 ]\n",
      "   [0.6562  0.5938  0.5938 ]\n",
      "   [0.625   0.5938  0.5938 ]\n",
      "   ...\n",
      "   [0.9375  0.9375  0.9375 ]\n",
      "   [0.9375  0.9375  0.9375 ]\n",
      "   [0.625   0.625   0.9375 ]]\n",
      "\n",
      "  [[0.6562  0.5938  0.5938 ]\n",
      "   [0.625   0.5938  0.5938 ]\n",
      "   [0.625   0.5938  0.5938 ]\n",
      "   ...\n",
      "   [0.9375  0.9375  0.9375 ]\n",
      "   [0.9375  0.9375  0.9375 ]\n",
      "   [0.625   0.625   0.9375 ]]\n",
      "\n",
      "  [[0.625   0.5938  0.5938 ]\n",
      "   [0.625   0.5938  0.5938 ]\n",
      "   [0.625   0.578   0.5938 ]\n",
      "   ...\n",
      "   [0.9375  0.9375  0.9375 ]\n",
      "   [0.9375  0.9375  0.9375 ]\n",
      "   [0.625   0.625   0.9375 ]]\n",
      "\n",
      "  ...\n",
      "\n",
      "  [[0.375   0.4375  0.4375 ]\n",
      "   [0.3438  0.4219  0.5625 ]\n",
      "   [0.3125  0.375   0.4062 ]\n",
      "   ...\n",
      "   [0.9375  0.9375  0.9375 ]\n",
      "   [0.9375  0.9375  0.9375 ]\n",
      "   [0.625   0.625   0.9375 ]]\n",
      "\n",
      "  [[0.3438  0.3906  0.4375 ]\n",
      "   [0.25    0.3125  0.4688 ]\n",
      "   [0.4375  0.578   0.4688 ]\n",
      "   ...\n",
      "   [0.9375  0.9375  0.9375 ]\n",
      "   [0.9375  0.9375  0.9375 ]\n",
      "   [0.625   0.625   0.9375 ]]\n",
      "\n",
      "  [[0.3438  0.3906  0.4688 ]\n",
      "   [0.1875  0.25    0.5    ]\n",
      "   [0.375   0.4375  0.375  ]\n",
      "   ...\n",
      "   [0.9375  0.9375  0.9375 ]\n",
      "   [0.9375  0.9375  0.9375 ]\n",
      "   [0.625   0.625   0.9375 ]]]]\n"
     ]
    }
   ],
   "source": [
    "mean = np.mean(train_data, axis = 0)\n",
    "std = np.std(train_data, axis = 0)\n",
    "\n",
    "#train_data = (train_data-mean) / std\n",
    "#validation_data = (validation_data-mean) / std\n",
    "\n",
    "print(train_data)"
   ]
  },
  {
   "cell_type": "code",
   "execution_count": 10,
   "metadata": {},
   "outputs": [
    {
     "data": {
      "image/png": "[encoded data removed]",
      "text/plain": [
       "<PIL.Image.Image image mode=RGB size=160x120 at 0x7F354CFC4160>"
      ]
     },
     "execution_count": 10,
     "metadata": {},
     "output_type": "execute_result"
    }
   ],
   "source": [
    "keras.utils.array_to_img(train_data[0])"
   ]
  },
  {
   "cell_type": "code",
   "execution_count": 11,
   "metadata": {},
   "outputs": [
    {
     "data": {
      "text/plain": [
       "3"
      ]
     },
     "execution_count": 11,
     "metadata": {},
     "output_type": "execute_result"
    }
   ],
   "source": [
    "classes_txt = classes\n",
    "classes = len(le.classes_)\n",
    "classes"
   ]
  },
  {
   "cell_type": "code",
   "execution_count": 12,
   "metadata": {},
   "outputs": [
    {
     "data": {
      "text/plain": [
       "32"
      ]
     },
     "execution_count": 12,
     "metadata": {},
     "output_type": "execute_result"
    }
   ],
   "source": [
    "import gc\n",
    "gc.collect() # used to clear gpu memory "
   ]
  },
  {
   "cell_type": "code",
   "execution_count": 13,
   "metadata": {},
   "outputs": [
    {
     "data": {
      "image/png": "[encoded data removed]",
      "text/plain": [
       "<PIL.Image.Image image mode=RGB size=160x120 at 0x7F35BC63E460>"
      ]
     },
     "execution_count": 13,
     "metadata": {},
     "output_type": "execute_result"
    }
   ],
   "source": [
    "keras.utils.array_to_img(validation_data[0])"
   ]
  },
  {
   "cell_type": "code",
   "execution_count": 14,
   "metadata": {},
   "outputs": [
    {
     "data": {
      "text/plain": [
       "(1, 120, 160, 3)"
      ]
     },
     "execution_count": 14,
     "metadata": {},
     "output_type": "execute_result"
    }
   ],
   "source": [
    "img_axis = validation_data[0][None,:,:,:]\n",
    "img_axis.shape"
   ]
  },
  {
   "cell_type": "markdown",
   "metadata": {},
   "source": [
    "# The FINAL model\n",
    "Below is the model which will be used in the Final product. Please try to increase the score."
   ]
  },
  {
   "cell_type": "code",
   "execution_count": 15,
   "metadata": {},
   "outputs": [
    {
     "name": "stdout",
     "output_type": "stream",
     "text": [
      "Model: \"sequential\"\n",
      "_________________________________________________________________\n",
      " Layer (type)                Output Shape              Param #   \n",
      "=================================================================\n",
      " conv2d (Conv2D)             (None, 118, 158, 8)       224       \n",
      "                                                                 \n",
      " max_pooling2d (MaxPooling2D  (None, 39, 52, 8)        0         \n",
      " )                                                               \n",
      "                                                                 \n",
      " conv2d_1 (Conv2D)           (None, 38, 51, 16)        528       \n",
      "                                                                 \n",
      " max_pooling2d_1 (MaxPooling  (None, 12, 17, 16)       0         \n",
      " 2D)                                                             \n",
      "                                                                 \n",
      " conv2d_2 (Conv2D)           (None, 10, 15, 8)         1160      \n",
      "                                                                 \n",
      " max_pooling2d_2 (MaxPooling  (None, 3, 5, 8)          0         \n",
      " 2D)                                                             \n",
      "                                                                 \n",
      " flatten (Flatten)           (None, 120)               0         \n",
      "                                                                 \n",
      " dense (Dense)               (None, 75)                9075      \n",
      "                                                                 \n",
      " dropout (Dropout)           (None, 75)                0         \n",
      "                                                                 \n",
      " dense_1 (Dense)             (None, 35)                2660      \n",
      "                                                                 \n",
      " dense_2 (Dense)             (None, 15)                540       \n",
      "                                                                 \n",
      " dense_3 (Dense)             (None, 3)                 48        \n",
      "                                                                 \n",
      "=================================================================\n",
      "Total params: 14,235\n",
      "Trainable params: 14,235\n",
      "Non-trainable params: 0\n",
      "_________________________________________________________________\n"
     ]
    },
    {
     "name": "stderr",
     "output_type": "stream",
     "text": [
      "2022-12-08 22:48:45.325813: W tensorflow/stream_executor/platform/default/dso_loader.cc:64] Could not load dynamic library 'libcuda.so.1'; dlerror: libcuda.so.1: cannot open shared object file: No such file or directory\n",
      "2022-12-08 22:48:45.325837: W tensorflow/stream_executor/cuda/cuda_driver.cc:269] failed call to cuInit: UNKNOWN ERROR (303)\n",
      "2022-12-08 22:48:45.325853: I tensorflow/stream_executor/cuda/cuda_diagnostics.cc:156] kernel driver does not appear to be running on this host (Z3NB00K): /proc/driver/nvidia/version does not exist\n",
      "2022-12-08 22:48:45.326087: I tensorflow/core/platform/cpu_feature_guard.cc:151] This TensorFlow binary is optimized with oneAPI Deep Neural Network Library (oneDNN) to use the following CPU instructions in performance-critical operations:  AVX2 FMA\n",
      "To enable them in other operations, rebuild TensorFlow with the appropriate compiler flags.\n"
     ]
    }
   ],
   "source": [
    "model_final = keras.models.Sequential([\n",
    "    keras.layers.Input(shape=train_data.shape[1:]),\n",
    "    #keras.layers.MaxPool2D((2,2), input_shape=train_data.shape[1:]),\n",
    "    #keras.layers.Dropout(0.5),\n",
    "    keras.layers.Conv2D(8, (3,3), activation=\"relu\"),\n",
    "    keras.layers.MaxPool2D((3,3)),\n",
    "    keras.layers.Conv2D(16, (2,2), activation=\"relu\"),\n",
    "    keras.layers.MaxPool2D((3,3)),\n",
    "    keras.layers.Conv2D(8, (3,3), activation=\"relu\"),\n",
    "    keras.layers.MaxPool2D((3,3)),\n",
    "    #keras.layers.Conv2D(32, (3,3), activation=\"relu\"),\n",
    "    #keras.layers.MaxPool2D((2,2)),\n",
    "    #keras.layers.Conv2D(32, (3,3), activation=\"relu\"),\n",
    "    #keras.layers.MaxPool2D((2,2)),\n",
    "    keras.layers.Flatten(),\n",
    "    keras.layers.Dense(75, activation=\"relu\"),\n",
    "    keras.layers.Dropout(0.2),\n",
    "\n",
    "    ## Dynamic\n",
    "    keras.layers.Dense(35, activation=\"relu\"),\n",
    "    keras.layers.Dense(15, activation=\"relu\"),\n",
    "    keras.layers.Dense(classes, activation=\"softmax\")\n",
    "    ])\n",
    "\n",
    "model_final.compile(optimizer=\"adam\", loss=\"sparse_categorical_crossentropy\", metrics=[\"accuracy\"])\n",
    "model_final.summary()\n",
    "\n",
    "# Fill in the number of dynamic layers in the model\n",
    "cnt_dynamic_layers = 3"
   ]
  },
  {
   "cell_type": "code",
   "execution_count": 16,
   "metadata": {},
   "outputs": [
    {
     "name": "stdout",
     "output_type": "stream",
     "text": [
      "Epoch 1/50\n",
      "3/3 [==============================] - 1s 110ms/step - loss: 1.0988 - accuracy: 0.3516 - val_loss: 1.0962 - val_accuracy: 0.5185\n",
      "Epoch 2/50\n",
      "3/3 [==============================] - 0s 54ms/step - loss: 1.0878 - accuracy: 0.3956 - val_loss: 1.0779 - val_accuracy: 0.5556\n",
      "Epoch 3/50\n",
      "3/3 [==============================] - 0s 50ms/step - loss: 1.0817 - accuracy: 0.4945 - val_loss: 1.0605 - val_accuracy: 0.6667\n",
      "Epoch 4/50\n",
      "3/3 [==============================] - 0s 54ms/step - loss: 1.0678 - accuracy: 0.5934 - val_loss: 1.0431 - val_accuracy: 0.7037\n",
      "Epoch 5/50\n",
      "3/3 [==============================] - 0s 51ms/step - loss: 1.0400 - accuracy: 0.6044 - val_loss: 1.0233 - val_accuracy: 0.8519\n",
      "Epoch 6/50\n",
      "3/3 [==============================] - 0s 51ms/step - loss: 1.0318 - accuracy: 0.5714 - val_loss: 0.9899 - val_accuracy: 0.8519\n",
      "Epoch 7/50\n",
      "3/3 [==============================] - 0s 50ms/step - loss: 1.0006 - accuracy: 0.6923 - val_loss: 0.9473 - val_accuracy: 0.8148\n",
      "Epoch 8/50\n",
      "3/3 [==============================] - 0s 52ms/step - loss: 0.9625 - accuracy: 0.7033 - val_loss: 0.9081 - val_accuracy: 0.8889\n",
      "Epoch 9/50\n",
      "3/3 [==============================] - 0s 49ms/step - loss: 0.8988 - accuracy: 0.7473 - val_loss: 0.8457 - val_accuracy: 0.8889\n",
      "Epoch 10/50\n",
      "3/3 [==============================] - 0s 51ms/step - loss: 0.8597 - accuracy: 0.8022 - val_loss: 0.7577 - val_accuracy: 0.8889\n",
      "Epoch 11/50\n",
      "3/3 [==============================] - 0s 49ms/step - loss: 0.7987 - accuracy: 0.8132 - val_loss: 0.6674 - val_accuracy: 0.8889\n",
      "Epoch 12/50\n",
      "3/3 [==============================] - 0s 49ms/step - loss: 0.7237 - accuracy: 0.7473 - val_loss: 0.5764 - val_accuracy: 0.8889\n",
      "Epoch 13/50\n",
      "3/3 [==============================] - 0s 51ms/step - loss: 0.6114 - accuracy: 0.8571 - val_loss: 0.4755 - val_accuracy: 0.9259\n",
      "Epoch 14/50\n",
      "3/3 [==============================] - 0s 49ms/step - loss: 0.5381 - accuracy: 0.8242 - val_loss: 0.3773 - val_accuracy: 0.9259\n",
      "Epoch 15/50\n",
      "3/3 [==============================] - 0s 50ms/step - loss: 0.4696 - accuracy: 0.8462 - val_loss: 0.3028 - val_accuracy: 0.9259\n",
      "Epoch 16/50\n",
      "3/3 [==============================] - 0s 49ms/step - loss: 0.3892 - accuracy: 0.9011 - val_loss: 0.2559 - val_accuracy: 0.9259\n",
      "Epoch 17/50\n",
      "3/3 [==============================] - 0s 50ms/step - loss: 0.3355 - accuracy: 0.8681 - val_loss: 0.2007 - val_accuracy: 0.9630\n",
      "Epoch 18/50\n",
      "3/3 [==============================] - 0s 51ms/step - loss: 0.2461 - accuracy: 0.9341 - val_loss: 0.1541 - val_accuracy: 0.9630\n",
      "Epoch 19/50\n",
      "3/3 [==============================] - 0s 50ms/step - loss: 0.2430 - accuracy: 0.9121 - val_loss: 0.1306 - val_accuracy: 0.9630\n",
      "Epoch 20/50\n",
      "3/3 [==============================] - 0s 50ms/step - loss: 0.1755 - accuracy: 0.9560 - val_loss: 0.1218 - val_accuracy: 0.9630\n",
      "Epoch 21/50\n",
      "3/3 [==============================] - 0s 51ms/step - loss: 0.2282 - accuracy: 0.8791 - val_loss: 0.1162 - val_accuracy: 0.9630\n",
      "Epoch 22/50\n",
      "3/3 [==============================] - 0s 50ms/step - loss: 0.1734 - accuracy: 0.9341 - val_loss: 0.1096 - val_accuracy: 0.9630\n",
      "Epoch 23/50\n",
      "3/3 [==============================] - 0s 53ms/step - loss: 0.1539 - accuracy: 0.9341 - val_loss: 0.1039 - val_accuracy: 0.9630\n",
      "Epoch 24/50\n",
      "3/3 [==============================] - 0s 61ms/step - loss: 0.1471 - accuracy: 0.9670 - val_loss: 0.0731 - val_accuracy: 0.9630\n",
      "Epoch 25/50\n",
      "3/3 [==============================] - 0s 52ms/step - loss: 0.1335 - accuracy: 0.9560 - val_loss: 0.0703 - val_accuracy: 0.9630\n",
      "Epoch 26/50\n",
      "3/3 [==============================] - 0s 50ms/step - loss: 0.1024 - accuracy: 0.9670 - val_loss: 0.1334 - val_accuracy: 0.9259\n",
      "Epoch 27/50\n",
      "3/3 [==============================] - 0s 59ms/step - loss: 0.1875 - accuracy: 0.9451 - val_loss: 0.0712 - val_accuracy: 0.9630\n",
      "Epoch 28/50\n",
      "3/3 [==============================] - 0s 50ms/step - loss: 0.0561 - accuracy: 1.0000 - val_loss: 0.0540 - val_accuracy: 0.9630\n",
      "Epoch 29/50\n",
      "3/3 [==============================] - 0s 59ms/step - loss: 0.0656 - accuracy: 0.9890 - val_loss: 0.0593 - val_accuracy: 0.9630\n",
      "Epoch 30/50\n",
      "3/3 [==============================] - 0s 54ms/step - loss: 0.1149 - accuracy: 0.9560 - val_loss: 0.0710 - val_accuracy: 0.9630\n",
      "Epoch 31/50\n",
      "3/3 [==============================] - 0s 56ms/step - loss: 0.0698 - accuracy: 0.9670 - val_loss: 0.0641 - val_accuracy: 0.9630\n",
      "Epoch 32/50\n",
      "3/3 [==============================] - 0s 52ms/step - loss: 0.0660 - accuracy: 0.9670 - val_loss: 0.0387 - val_accuracy: 1.0000\n",
      "Epoch 33/50\n",
      "3/3 [==============================] - 0s 51ms/step - loss: 0.0445 - accuracy: 1.0000 - val_loss: 0.0305 - val_accuracy: 1.0000\n",
      "Epoch 34/50\n",
      "3/3 [==============================] - 0s 52ms/step - loss: 0.0685 - accuracy: 0.9780 - val_loss: 0.0365 - val_accuracy: 0.9630\n",
      "Epoch 35/50\n",
      "3/3 [==============================] - 0s 51ms/step - loss: 0.0419 - accuracy: 1.0000 - val_loss: 0.0578 - val_accuracy: 0.9630\n",
      "Epoch 36/50\n",
      "3/3 [==============================] - 0s 55ms/step - loss: 0.0640 - accuracy: 0.9780 - val_loss: 0.0370 - val_accuracy: 0.9630\n",
      "Epoch 37/50\n",
      "3/3 [==============================] - 0s 63ms/step - loss: 0.0223 - accuracy: 1.0000 - val_loss: 0.0258 - val_accuracy: 1.0000\n",
      "Epoch 38/50\n",
      "3/3 [==============================] - 0s 55ms/step - loss: 0.0245 - accuracy: 1.0000 - val_loss: 0.0261 - val_accuracy: 1.0000\n",
      "Epoch 39/50\n",
      "3/3 [==============================] - 0s 61ms/step - loss: 0.0258 - accuracy: 1.0000 - val_loss: 0.0439 - val_accuracy: 0.9630\n",
      "Epoch 40/50\n",
      "3/3 [==============================] - 0s 50ms/step - loss: 0.0319 - accuracy: 0.9890 - val_loss: 0.0611 - val_accuracy: 0.9630\n",
      "Epoch 41/50\n",
      "3/3 [==============================] - 0s 53ms/step - loss: 0.0235 - accuracy: 1.0000 - val_loss: 0.0347 - val_accuracy: 0.9630\n",
      "Epoch 42/50\n",
      "3/3 [==============================] - 0s 48ms/step - loss: 0.0189 - accuracy: 1.0000 - val_loss: 0.0228 - val_accuracy: 1.0000\n",
      "Epoch 43/50\n",
      "3/3 [==============================] - 0s 54ms/step - loss: 0.0133 - accuracy: 1.0000 - val_loss: 0.0208 - val_accuracy: 1.0000\n",
      "Epoch 44/50\n",
      "3/3 [==============================] - 0s 50ms/step - loss: 0.0120 - accuracy: 1.0000 - val_loss: 0.0286 - val_accuracy: 0.9630\n",
      "Epoch 45/50\n",
      "3/3 [==============================] - 0s 51ms/step - loss: 0.0208 - accuracy: 1.0000 - val_loss: 0.0266 - val_accuracy: 1.0000\n",
      "Epoch 46/50\n",
      "3/3 [==============================] - 0s 59ms/step - loss: 0.0072 - accuracy: 1.0000 - val_loss: 0.0219 - val_accuracy: 1.0000\n",
      "Epoch 47/50\n",
      "3/3 [==============================] - 0s 51ms/step - loss: 0.0039 - accuracy: 1.0000 - val_loss: 0.0203 - val_accuracy: 1.0000\n",
      "Epoch 48/50\n",
      "3/3 [==============================] - 0s 51ms/step - loss: 0.0050 - accuracy: 1.0000 - val_loss: 0.0226 - val_accuracy: 1.0000\n",
      "Epoch 49/50\n",
      "3/3 [==============================] - 0s 52ms/step - loss: 0.0103 - accuracy: 1.0000 - val_loss: 0.0208 - val_accuracy: 1.0000\n",
      "Epoch 50/50\n",
      "3/3 [==============================] - 0s 51ms/step - loss: 0.0073 - accuracy: 1.0000 - val_loss: 0.0280 - val_accuracy: 0.9630\n"
     ]
    }
   ],
   "source": [
    "history_final = model_final.fit(train_data, train_labels, validation_data=(validation_data, validation_labels), batch_size=32, epochs=50)#, callbacks=[callback])"
   ]
  },
  {
   "cell_type": "code",
   "execution_count": 17,
   "metadata": {},
   "outputs": [
    {
     "data": {
      "text/plain": [
       "[<matplotlib.lines.Line2D at 0x7f3540089130>]"
      ]
     },
     "execution_count": 17,
     "metadata": {},
     "output_type": "execute_result"
    },
    {
     "data": {
      "image/png": "[encoded data removed]",
      "text/plain": [
       "<Figure size 1008x432 with 2 Axes>"
      ]
     },
     "metadata": {
      "needs_background": "light"
     },
     "output_type": "display_data"
    }
   ],
   "source": [
    "plt.figure(figsize=(14,6))\n",
    "plt.subplot(1,2,1)\n",
    "plt.title('Model Accuracy')\n",
    "plt.xlabel('Epochs')\n",
    "plt.ylabel('Accuracy')\n",
    "plt.plot(history_final.history['accuracy'], label='train')\n",
    "plt.plot(history_final.history['val_accuracy'], label='validation')\n",
    "plt.legend()\n",
    "\n",
    "plt.subplot(1,2,2)\n",
    "plt.title('Model loss')\n",
    "plt.ylabel('Loss')\n",
    "plt.xlabel('Epochs')\n",
    "plt.plot(history_final.history['loss'], label=\"train\")\n",
    "plt.plot(history_final.history['val_loss'], label=\"validation\")"
   ]
  },
  {
   "cell_type": "code",
   "execution_count": 18,
   "metadata": {},
   "outputs": [
    {
     "name": "stderr",
     "output_type": "stream",
     "text": [
      "2022-12-08 22:48:53.968923: W tensorflow/python/util/util.cc:368] Sets are not currently considered sequences, but this may change in the future, so consider avoiding using them.\n"
     ]
    },
    {
     "name": "stdout",
     "output_type": "stream",
     "text": [
      "INFO:tensorflow:Assets written to: model_final/assets\n"
     ]
    }
   ],
   "source": [
    "model_final.save(\"model_final\")"
   ]
  },
  {
   "cell_type": "code",
   "execution_count": 19,
   "metadata": {},
   "outputs": [
    {
     "name": "stdout",
     "output_type": "stream",
     "text": [
      "Test acc: 0.9166666666666666\n",
      "Is: Maria but was predicted as: Nikhil\n"
     ]
    },
    {
     "data": {
      "image/png": "[encoded data removed]",
      "text/plain": [
       "<Figure size 432x288 with 1 Axes>"
      ]
     },
     "metadata": {
      "needs_background": "light"
     },
     "output_type": "display_data"
    }
   ],
   "source": [
    "y_pred_class = model_final.predict(test_data)\n",
    "y_pred_class = np.argmax(np.array(y_pred_class), axis=1)\n",
    "\n",
    "y_diff = y_pred_class != test_labels\n",
    "print(\"Test acc:\", 1 - y_diff.sum() / len(y_diff))\n",
    "\n",
    "y_pred_txt = []\n",
    "y_true_txt = []\n",
    "\n",
    "for i in range(len(test_labels)):\n",
    "    y_pred_txt.append(classes_txt[y_pred_class[i]])\n",
    "    y_true_txt.append(classes_txt[test_labels[i]])\n",
    "\n",
    "for i in range(len(y_diff)):\n",
    "    if y_diff[i]:\n",
    "        plt.imshow(keras.utils.array_to_img(test_data[i]))\n",
    "        print(\"Is:\", y_true_txt[i], \"but was predicted as:\", y_pred_txt[i])"
   ]
  },
  {
   "cell_type": "markdown",
   "metadata": {},
   "source": [
    "# Fix CNN weights and train only DNN (dynamic weights)\n",
    "\n",
    "### CNN prediction"
   ]
  },
  {
   "cell_type": "code",
   "execution_count": 29,
   "metadata": {},
   "outputs": [
    {
     "name": "stdout",
     "output_type": "stream",
     "text": [
      "Model: \"model_2\"\n",
      "_________________________________________________________________\n",
      " Layer (type)                Output Shape              Param #   \n",
      "=================================================================\n",
      " input_1 (InputLayer)        [(None, 120, 160, 3)]     0         \n",
      "                                                                 \n",
      " conv2d (Conv2D)             (None, 118, 158, 8)       224       \n",
      "                                                                 \n",
      " max_pooling2d (MaxPooling2D  (None, 39, 52, 8)        0         \n",
      " )                                                               \n",
      "                                                                 \n",
      " conv2d_1 (Conv2D)           (None, 38, 51, 16)        528       \n",
      "                                                                 \n",
      " max_pooling2d_1 (MaxPooling  (None, 12, 17, 16)       0         \n",
      " 2D)                                                             \n",
      "                                                                 \n",
      " conv2d_2 (Conv2D)           (None, 10, 15, 8)         1160      \n",
      "                                                                 \n",
      " max_pooling2d_2 (MaxPooling  (None, 3, 5, 8)          0         \n",
      " 2D)                                                             \n",
      "                                                                 \n",
      " flatten (Flatten)           (None, 120)               0         \n",
      "                                                                 \n",
      " dense (Dense)               (None, 75)                9075      \n",
      "                                                                 \n",
      " dropout (Dropout)           (None, 75)                0         \n",
      "                                                                 \n",
      "=================================================================\n",
      "Total params: 10,987\n",
      "Trainable params: 10,987\n",
      "Non-trainable params: 0\n",
      "_________________________________________________________________\n"
     ]
    }
   ],
   "source": [
    "model = keras.models.load_model('model_final')\n",
    "\n",
    "# cnt_dynamic_layers is defined above\n",
    "# remove last \"cnt_dynamic_layers\" layers\n",
    "\n",
    "x = model.layers[-(cnt_dynamic_layers + 1)].output \n",
    "\n",
    "model = keras.Model(inputs = model.input, outputs = x)\n",
    "model.summary()\n",
    "\n",
    "# output contains input vector to DNN\n",
    "cnn_pred_train = model.predict(train_data) \n",
    "cnn_pred_validation = model.predict(validation_data) # need to transform validation to input vector for DNN\n",
    "cnn_pred_test = model.predict(test_data) # perhaps merge with validation for Arduino"
   ]
  },
  {
   "cell_type": "markdown",
   "metadata": {},
   "source": [
    "### Save predictions to .h-file"
   ]
  },
  {
   "cell_type": "code",
   "execution_count": 68,
   "metadata": {},
   "outputs": [],
   "source": [
    "# Save output from pretrained model (CNN) to .h, is also used below\n",
    "first_layer_input_cnt = len(cnn_pred_train[0])\n",
    "\n",
    "def append_photo_data(data, data_cnt, type, lines):\n",
    "    lines.append(\"const float cnn_\" + type + \"_data[\" + str(data_cnt) + \"][\" + str(first_layer_input_cnt) + \"] = {\")\n",
    "    frames_str = []\n",
    "    for frame in data:\n",
    "        frame_values = [str(i) for i in frame]\n",
    "        frames_str.append(\"  {\" + \", \".join(frame_values) + \"}\")\n",
    "    lines.append(\",\\n\".join(frames_str))\n",
    "    lines.append(\"};\")\n",
    "    lines.append(\"\")\n",
    "\n",
    "def append_label_data(data, data_cnt, type, lines):\n",
    "    lines.append(\"const int \" + type + \"_labels[\" + str(data_cnt) + \"] = {\")\n",
    "    labels_str = [str(i) for i in data]\n",
    "    lines.append(\"  \" + \", \".join(labels_str))\n",
    "    lines.append(\"};\")\n",
    "    lines.append(\"\")\n",
    "\n",
    "def append_class_data(data, data_cnt, lines):\n",
    "    lines.append(\"const char* classes[\" + str(data_cnt) + \"] = {\")\n",
    "    classes_str = ['\"' + str(i) + '\"' for i in data]\n",
    "    lines.append(\"  \" + \", \".join(classes_str))\n",
    "    lines.append(\"};\")\n",
    "    lines.append(\"\")\n",
    "\n",
    "PRINT, SAVE = 0, 1\n",
    "PRINT_OR_SAVE = SAVE\n",
    "\n",
    "arduino_validation_data = np.concatenate((cnn_pred_validation, cnn_pred_test))\n",
    "arduino_validation_labels = np.concatenate((validation_labels, test_labels))\n",
    "\n",
    "def output_dataset(cnn_pred_train, train_labels, file_suffix):\n",
    "    train_data_cnt = len(train_labels)\n",
    "    validation_data_cnt = len(arduino_validation_labels)\n",
    "    classes_cnt = classes\n",
    "\n",
    "    if PRINT_OR_SAVE == PRINT:\n",
    "        print(\"Label translations:\", classes_txt)\n",
    "        print(\"Number of inputs for first DNN layer:\", first_layer_input_cnt)\n",
    "        print(\"Sample size train data:\", train_data_cnt)\n",
    "        print(\"Sample size validation data:\", validation_data_cnt)\n",
    "        print(\"Number of classes:\", classes_cnt)\n",
    "\n",
    "        for i in range(train_data_cnt):\n",
    "            print(\"Training Photo:\", str(i), \"has label:\", str(train_labels[i]))\n",
    "            print(cnn_pred_train[i])\n",
    "\n",
    "        for i in range(validation_data_cnt):\n",
    "            print(\"Validation Photo:\", str(i), \"has label:\", str(arduino_validation_labels[i]))\n",
    "            print(arduino_validation_data[i])\n",
    "\n",
    "    elif PRINT_OR_SAVE == SAVE:\n",
    "        lines = []\n",
    "        lines.append(\"// Data file containing output from CNN as input to DNN\")\n",
    "        lines.append(\"// This file was automatically generated using 'tensorflow_main.ipynb'\")\n",
    "        lines.append(\"const int first_layer_input_cnt = \" + str(first_layer_input_cnt) + \";\")\n",
    "        lines.append(\"const int train_data_cnt = \" + str(train_data_cnt) + \";\")\n",
    "        lines.append(\"const int validation_data_cnt = \" + str(validation_data_cnt) + \";\")\n",
    "        lines.append(\"const int classes_cnt = \" + str(classes_cnt) + \";\")\n",
    "        lines.append(\"\")\n",
    "\n",
    "        append_class_data(classes_txt, classes_cnt, lines)\n",
    "\n",
    "        # Training labels\n",
    "        append_label_data(train_labels, train_data_cnt, \"train\", lines)\n",
    "\n",
    "        # Validation labels\n",
    "        append_label_data(arduino_validation_labels, validation_data_cnt, \"validation\", lines)\n",
    "\n",
    "        # Training data\n",
    "        append_photo_data(cnn_pred_train, train_data_cnt, \"train\", lines)\n",
    "\n",
    "        # Validation data\n",
    "        append_photo_data(arduino_validation_data, validation_data_cnt, \"validation\", lines)\n",
    "\n",
    "        f = open(\"cnn_data\" + file_suffix + \".h\", \"w\")\n",
    "        f.write(\"\\n\".join(lines))\n",
    "        f.close()\n",
    "\n",
    "# Total, unbiasad data-set\n",
    "output_dataset(cnn_pred_train, train_labels, \"\")\n",
    "\n",
    "# Construct biased data-set, we here use Simon and Maria since they use the same background and should, in theory, be harder to distinguish from one another\n",
    "def get_data_for_class(class_id):\n",
    "    biased_data = [cnn_pred_train[i] for i in range(len(cnn_pred_train)) if train_labels[i] == class_id]\n",
    "    biased_labels = [class_id for i in range(len(biased_data))]\n",
    "    return (biased_data, biased_labels)\n",
    "\n",
    "simon_id, maria_id, nikhil_id = le.transform([\"Simon\", \"Maria\", \"Nikhil\"])\n",
    "\n",
    "extra_data, extra_label = get_data_for_class(nikhil_id)\n",
    "extra_data_1, extra_data_2, extra_label_1, extra_label_2 = model_selection.train_test_split(extra_data, extra_label, random_state=75,test_size=0.5)\n",
    "\n",
    "# Biased favoring Simon\n",
    "first_cnn_data_, first_labels = get_data_for_class(simon_id)\n",
    "first_cnn_data_, first_labels = shuffle(np.concatenate((first_cnn_data_, extra_data_1)), np.concatenate((first_labels, extra_label_1)))\n",
    "output_dataset(first_cnn_data_, first_labels, \"_biased_1\")\n",
    "\n",
    "# Biased favoring Maria\n",
    "second_cnn_data_, second_labels = get_data_for_class(maria_id)\n",
    "second_cnn_data_, second_labels = shuffle(np.concatenate((second_cnn_data_, extra_data_2)), np.concatenate((second_labels, extra_label_2)))\n",
    "output_dataset(second_cnn_data_, second_labels, \"_biased_2\")"
   ]
  },
  {
   "cell_type": "markdown",
   "metadata": {},
   "source": [
    "### Python simulation of DNN learning\n",
    "We now train only the DNN part with the same structure (although zero the weights) as the DNN part above. The CNN part is frozen, i.e. using the predictions for the DNN input layer obtained above.\n",
    "#### Create DNN model"
   ]
  },
  {
   "cell_type": "code",
   "execution_count": 74,
   "metadata": {},
   "outputs": [
    {
     "name": "stdout",
     "output_type": "stream",
     "text": [
      "Model: \"model_11\"\n",
      "_________________________________________________________________\n",
      " Layer (type)                Output Shape              Param #   \n",
      "=================================================================\n",
      " input_12 (InputLayer)       [(None, 75)]              0         \n",
      "                                                                 \n",
      " dense_17 (Dense)            (None, 35)                2660      \n",
      "                                                                 \n",
      " dense_18 (Dense)            (None, 15)                540       \n",
      "                                                                 \n",
      " dense_19 (Dense)            (None, 3)                 48        \n",
      "                                                                 \n",
      "=================================================================\n",
      "Total params: 3,248\n",
      "Trainable params: 3,248\n",
      "Non-trainable params: 0\n",
      "_________________________________________________________________\n"
     ]
    }
   ],
   "source": [
    "# Creating the DNN model, by extracting part from above\n",
    "model_final_copy = tf.keras.models.clone_model(model_final)\n",
    "\n",
    "in_layer = model_final_copy.layers[-(cnt_dynamic_layers + 1)].output\n",
    "out_layer = model_final_copy.layers[-1].output \n",
    "\n",
    "dnn_model = keras.Model(inputs = in_layer, outputs = out_layer)\n",
    "dnn_model.summary()\n",
    "dnn_model.compile(loss=\"sparse_categorical_crossentropy\", metrics=[\"accuracy\"])\n",
    "\n",
    "#dnn_pred_train = dnn_model.predict(cnn_pred_train)\n",
    "#print(dnn_pred_train)"
   ]
  },
  {
   "cell_type": "markdown",
   "metadata": {},
   "source": [
    "### Evauluate the non-trained DNN model"
   ]
  },
  {
   "cell_type": "code",
   "execution_count": 75,
   "metadata": {},
   "outputs": [
    {
     "name": "stdout",
     "output_type": "stream",
     "text": [
      "Train acc: 0.3846153846153846\n",
      "Validation acc: 0.37037037037037035\n",
      "Test acc: 0.33333333333333337\n"
     ]
    }
   ],
   "source": [
    "def print_dnn_accuracy(input, labels, name, verbose=False):\n",
    "    y_pred_class = dnn_model.predict(input)\n",
    "    y_pred_class = np.argmax(np.array(y_pred_class), axis=1)\n",
    "\n",
    "    y_diff = y_pred_class != labels\n",
    "    print(name, \"acc:\", 1 - y_diff.sum() / len(y_diff))\n",
    "\n",
    "    y_pred_txt = []\n",
    "    y_true_txt = []\n",
    "\n",
    "    for i in range(len(input)):\n",
    "        y_pred_txt.append(classes_txt[y_pred_class[i]])\n",
    "        y_true_txt.append(classes_txt[labels[i]])\n",
    "\n",
    "    for i in range(len(y_diff)):\n",
    "        if y_diff[i] and verbose:\n",
    "            #plt.imshow(keras.utils.array_to_img(input[i]))\n",
    "            print(\" Is:\", y_true_txt[i], \"but was predicted as:\", y_pred_txt[i])\n",
    "\n",
    "print_dnn_accuracy(cnn_pred_train, train_labels, \"Train\")\n",
    "print_dnn_accuracy(cnn_pred_validation, validation_labels, \"Validation\")\n",
    "print_dnn_accuracy(cnn_pred_test, test_labels, \"Test\")"
   ]
  },
  {
   "cell_type": "markdown",
   "metadata": {},
   "source": [
    "### Train DNN part\n",
    "Now use train_data to only train DNN."
   ]
  },
  {
   "cell_type": "code",
   "execution_count": 76,
   "metadata": {},
   "outputs": [
    {
     "name": "stdout",
     "output_type": "stream",
     "text": [
      "Epoch 1/10\n",
      "19/19 [==============================] - 0s 6ms/step - loss: 1.0639 - accuracy: 0.6264 - val_loss: 0.3340 - val_accuracy: 0.9259\n",
      "Epoch 2/10\n",
      "19/19 [==============================] - 0s 2ms/step - loss: 0.2878 - accuracy: 0.9231 - val_loss: 0.2019 - val_accuracy: 0.9630\n",
      "Epoch 3/10\n",
      "19/19 [==============================] - 0s 2ms/step - loss: 0.1491 - accuracy: 0.9890 - val_loss: 0.1362 - val_accuracy: 0.9630\n",
      "Epoch 4/10\n",
      "19/19 [==============================] - 0s 2ms/step - loss: 0.0883 - accuracy: 0.9890 - val_loss: 0.1233 - val_accuracy: 0.9630\n",
      "Epoch 5/10\n",
      "19/19 [==============================] - 0s 2ms/step - loss: 0.0530 - accuracy: 1.0000 - val_loss: 0.0995 - val_accuracy: 0.9259\n",
      "Epoch 6/10\n",
      "19/19 [==============================] - 0s 2ms/step - loss: 0.0399 - accuracy: 0.9890 - val_loss: 0.0979 - val_accuracy: 0.9630\n",
      "Epoch 7/10\n",
      "19/19 [==============================] - 0s 2ms/step - loss: 0.0208 - accuracy: 1.0000 - val_loss: 0.1191 - val_accuracy: 0.9630\n",
      "Epoch 8/10\n",
      "19/19 [==============================] - 0s 2ms/step - loss: 0.0177 - accuracy: 1.0000 - val_loss: 0.0784 - val_accuracy: 0.9630\n",
      "Epoch 9/10\n",
      "19/19 [==============================] - 0s 2ms/step - loss: 0.0120 - accuracy: 1.0000 - val_loss: 0.1026 - val_accuracy: 0.9630\n",
      "Epoch 10/10\n",
      "19/19 [==============================] - 0s 2ms/step - loss: 0.0094 - accuracy: 1.0000 - val_loss: 0.0969 - val_accuracy: 0.9630\n"
     ]
    }
   ],
   "source": [
    "history_dnn = dnn_model.fit(cnn_pred_train, train_labels, validation_data=(cnn_pred_validation, validation_labels), batch_size=5, epochs=10)"
   ]
  },
  {
   "cell_type": "markdown",
   "metadata": {},
   "source": [
    "### Evaluation trained DNN model\n",
    "Evaluation, excatly the same as above, but DNN model is now trained."
   ]
  },
  {
   "cell_type": "code",
   "execution_count": 77,
   "metadata": {},
   "outputs": [
    {
     "name": "stdout",
     "output_type": "stream",
     "text": [
      "Train acc: 1.0\n",
      "Validation acc: 0.962962962962963\n",
      " Is: Simon but was predicted as: Maria\n",
      "Test acc: 0.9166666666666666\n",
      " Is: Maria but was predicted as: Nikhil\n"
     ]
    }
   ],
   "source": [
    "print_dnn_accuracy(cnn_pred_train, train_labels, \"Train\", True)\n",
    "print_dnn_accuracy(cnn_pred_validation, validation_labels, \"Validation\", True)\n",
    "print_dnn_accuracy(cnn_pred_test, test_labels, \"Test\", True)"
   ]
  }
 ],
 "metadata": {
  "kernelspec": {
   "display_name": "Python 3.8.8 ('base')",
   "language": "python",
   "name": "python3"
  },
  "language_info": {
   "codemirror_mode": {
    "name": "ipython",
    "version": 3
   },
   "file_extension": ".py",
   "mimetype": "text/x-python",
   "name": "python",
   "nbconvert_exporter": "python",
   "pygments_lexer": "ipython3",
   "version": "3.8.8"
  },
  "orig_nbformat": 4,
  "vscode": {
   "interpreter": {
    "hash": "d0088029b3bf0883d79fb316fdd34e9e1ba6cd66820b181ce01ee6eba35b10f3"
   }
  }
 },
 "nbformat": 4,
 "nbformat_minor": 2
}
